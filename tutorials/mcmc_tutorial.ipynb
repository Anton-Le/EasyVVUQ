{
 "cells": [
  {
   "cell_type": "markdown",
   "id": "concrete-forest",
   "metadata": {},
   "source": [
    "# Markov-Chain Monte Carlo in EasyVVUQ"
   ]
  },
  {
   "cell_type": "markdown",
   "id": "relevant-insider",
   "metadata": {},
   "source": [
    "We have a model that returns an array of 50 integers where each is supposed to have come from a Poisson distribution with an unknown mean. The model has four input parameters ```a, b, c, d``` and the values of the means depend on the values of those parameters (albeit indirectly)."
   ]
  },
  {
   "cell_type": "code",
   "execution_count": null,
   "id": "aggregate-convertible",
   "metadata": {},
   "outputs": [],
   "source": [
    "import numpy as np\n",
    "def model(a, b, c, d):\n",
    "    a = int(a)\n",
    "    b = int(b)\n",
    "    c = int(c)\n",
    "    d = int(d)\n",
    "    x = np.linspace(0, 1, 50)\n",
    "    return np.random.poisson(\n",
    "        a * (0.5 * np.sin(2.0 * np.pi * x) + 1.0) +\\\n",
    "        b * (0.5 * np.sin(4.0 * np.pi * x) + 1.0) +\\\n",
    "        c * (0.5 * np.sin(6.0 * np.pi * x) + 1.0) +\\\n",
    "        d * (0.5 * np.sin(8.0 * np.pi * x) + 1.0))"
   ]
  },
  {
   "cell_type": "markdown",
   "id": "blind-flashing",
   "metadata": {},
   "source": [
    "If we plot the values returned by the model with ```a = b = c = d = 50``` and repeat this 20 times we might get something like the figure below."
   ]
  },
  {
   "cell_type": "code",
   "execution_count": null,
   "id": "sapphire-conjunction",
   "metadata": {},
   "outputs": [],
   "source": [
    "import matplotlib.pyplot as plt\n",
    "for _ in range(20):\n",
    "    plt.plot(model(50, 50, 50, 50), '.')"
   ]
  },
  {
   "cell_type": "markdown",
   "id": "funded-importance",
   "metadata": {},
   "source": [
    "Then we have an array of 50 values that came from the model. With ```a = 50, b = 80, c = 50 and d = 80```. We will treat them as our observed data. We want to know what input parameters of the model are most likely to result in the values in the ```observed``` array. Because suppose we forgot. In most cases this would be values obtained by measuring whatever physical phenomenon the simulation is supposed to model."
   ]
  },
  {
   "cell_type": "code",
   "execution_count": null,
   "id": "norwegian-stocks",
   "metadata": {},
   "outputs": [],
   "source": [
    "observed = np.array([227, 257, 280, 344, 326, 319, 253, 281, 247, 221, 195, 189, 199,\n",
    "       212, 221, 210, 228, 230, 217, 199, 217, 199, 175, 176, 202, 233,\n",
    "       246, 284, 292, 260, 264, 220, 204, 227, 220, 232, 228, 253, 244,\n",
    "       258, 225, 209, 203, 174, 138, 119, 126, 155, 199, 238])"
   ]
  },
  {
   "cell_type": "markdown",
   "id": "million-breeding",
   "metadata": {},
   "source": [
    "More precisely we are interested in $\\mathbb{E}(X | y) = \\int_{-\\infty}^{\\infty}$ with $f$ being the joint probability distribution of the input parameter values given some observed values $x$. We know by Bayes theorem that this is proportional to $E(g(x | a, b, c, d) f(a, b, c, d))$. We will use Markov-Chain Monte Carlo (MCMC) to approximate the probability density $g(x | a, b, c, d)$. Namely the probability density of $x$ taking on given values with respect to the input parameters. We know that $x$ is 50 numbers from 50 Poisson distributions with unknown means. We will estimate those means by running the model multiple times and calculating the sample mean because that is the MLE estimate for a Poisson distributed random variable. Suppose we have $\\hat{\\lambda}_i$ that is the estimate. Then we have $g(y | a, b, c, d) = \\prod_{i = 1}^{50} \\frac{\\hat\\lambda_i^{y_i} \\exp(-\\hat\\lambda_i)}{{y_i}!}$. Since it is often more convenient to work with log-likelihoods we arrive at $\\sum_{i = 1}^{50} \\left(y_i \\log(\\hat\\lambda_i) - \\hat\\lambda_i - \\log({y_i}!)\\right)$. Since this is an estimate special care will need to be taken when estimating convergence of the MCMC algorithm."
   ]
  },
  {
   "cell_type": "code",
   "execution_count": null,
   "id": "grateful-virgin",
   "metadata": {},
   "outputs": [],
   "source": [
    "import easyvvuq as uq\n",
    "import scipy.special\n",
    "import chaospy as cp\n",
    "import numpy as np\n",
    "import pandas as pd\n",
    "import os\n",
    "import json"
   ]
  },
  {
   "cell_type": "code",
   "execution_count": null,
   "id": "brazilian-commodity",
   "metadata": {},
   "outputs": [],
   "source": [
    "def run_model(directory):\n",
    "    json_input = os.path.join(directory, 'input.json')\n",
    "    with open(json_input, \"r\") as fd:\n",
    "        inputs = json.load(fd)\n",
    "    a = inputs['a']\n",
    "    b = inputs['b']\n",
    "    c = inputs['c']\n",
    "    d = inputs['d']\n",
    "    outfile = inputs['outfile']\n",
    "    data = pd.DataFrame({\"Values\": model(a, b, c, d)})\n",
    "    data.to_csv(os.path.join(directory, outfile), index=False)"
   ]
  },
  {
   "cell_type": "code",
   "execution_count": null,
   "id": "coral-mobile",
   "metadata": {},
   "outputs": [],
   "source": [
    "def poisson_loglikelihood(lmbda, k):\n",
    "    return (k * np.log(lmbda) - lmbda - scipy.special.gammaln(k + 1.0)).sum()"
   ]
  },
  {
   "cell_type": "code",
   "execution_count": null,
   "id": "killing-prophet",
   "metadata": {},
   "outputs": [],
   "source": [
    "def get_likelihood(observed):\n",
    "    def likelihood(lmbda):\n",
    "        return poisson_loglikelihood(lmbda, observed)\n",
    "    return likelihood"
   ]
  },
  {
   "cell_type": "code",
   "execution_count": null,
   "id": "green-wildlife",
   "metadata": {},
   "outputs": [],
   "source": [
    "params = {\n",
    "    \"a\": {\"type\": \"float\", \"min\": 0, \"max\": 100, \"default\": 50},\n",
    "    \"b\": {\"type\": \"float\", \"min\": 0, \"max\": 100, \"default\": 50},\n",
    "    \"c\": {\"type\": \"float\", \"min\": 0, \"max\": 100, \"default\": 50},\n",
    "    \"d\": {\"type\": \"float\", \"min\": 0, \"max\": 100, \"default\": 50},\n",
    "    \"outfile\": {\"type\": \"string\", \"default\": \"output.csv\"},\n",
    "    \"replica_id\": {\"type\": \"integer\", \"default\": 0},\n",
    "    \"chain_id\": {\"type\": \"integer\", \"default\": 0}\n",
    "}\n",
    "encoder = uq.encoders.GenericEncoder(template_fname=\"mcmc.template\", \n",
    "                                     delimiter=\"$\", target_filename=\"input.json\")\n",
    "decoder = uq.decoders.SimpleCSV(\"output.csv\", [\"Values\"])\n",
    "campaign = uq.Campaign(\n",
    "    name=\"mcmc\", encoder=encoder, decoder=decoder, \n",
    "    params=params, work_dir='.')"
   ]
  },
  {
   "cell_type": "code",
   "execution_count": null,
   "id": "indie-crawford",
   "metadata": {},
   "outputs": [],
   "source": [
    "vary_init = {\n",
    "    \"a\": np.random.uniform(0, 100, size=5),\n",
    "    \"b\": np.random.uniform(0, 100, size=5),\n",
    "    \"c\": np.random.uniform(0, 100, size=5),\n",
    "    \"d\": np.random.uniform(0, 100, size=5)\n",
    "}"
   ]
  },
  {
   "cell_type": "code",
   "execution_count": null,
   "id": "assigned-interpretation",
   "metadata": {},
   "outputs": [],
   "source": [
    "def q(x, b=30):\n",
    "    return cp.J(cp.Normal(x['a'], b), \n",
    "                cp.Normal(x['b'], b), \n",
    "                cp.Normal(x['c'], b), \n",
    "                cp.Normal(x['d'], b))"
   ]
  },
  {
   "cell_type": "code",
   "execution_count": null,
   "id": "british-september",
   "metadata": {},
   "outputs": [],
   "source": [
    "mcmc_sampler = uq.sampling.MCMCSampler(\n",
    "    vary_init, q, 'Values', n_chains=5, n_replicas=20,\n",
    "    likelihood=get_likelihood(observed),\n",
    "    replica_col=\"replica_id\", estimator=lambda x: np.mean(x))\n",
    "sampler = uq.sampling.ReplicaSampler(mcmc_sampler)\n",
    "campaign.set_sampler(sampler)"
   ]
  },
  {
   "cell_type": "code",
   "execution_count": null,
   "id": "clear-franklin",
   "metadata": {},
   "outputs": [],
   "source": [
    "for _ in range(1000):\n",
    "    campaign.sample_and_apply(uq.actions.ExecutePython(run_model), nsamples=100).start()\n",
    "    campaign.collate()\n",
    "    mcmc_sampler.update(campaign)"
   ]
  },
  {
   "cell_type": "code",
   "execution_count": null,
   "id": "signed-richmond",
   "metadata": {},
   "outputs": [],
   "source": [
    "df = campaign.get_collation_result()"
   ]
  },
  {
   "cell_type": "code",
   "execution_count": null,
   "id": "hearing-behalf",
   "metadata": {},
   "outputs": [],
   "source": [
    "df"
   ]
  },
  {
   "cell_type": "code",
   "execution_count": null,
   "id": "alleged-claim",
   "metadata": {},
   "outputs": [],
   "source": [
    "df['a'].mean()"
   ]
  },
  {
   "cell_type": "code",
   "execution_count": null,
   "id": "written-allah",
   "metadata": {},
   "outputs": [],
   "source": [
    "df['b'].mean()"
   ]
  },
  {
   "cell_type": "code",
   "execution_count": null,
   "id": "general-equivalent",
   "metadata": {},
   "outputs": [],
   "source": [
    "df['c'].mean()"
   ]
  },
  {
   "cell_type": "code",
   "execution_count": null,
   "id": "tough-vector",
   "metadata": {},
   "outputs": [],
   "source": [
    "df['d'].mean()"
   ]
  },
  {
   "cell_type": "code",
   "execution_count": null,
   "id": "creative-season",
   "metadata": {},
   "outputs": [],
   "source": []
  }
 ],
 "metadata": {
  "kernelspec": {
   "display_name": "Python 3",
   "language": "python",
   "name": "python3"
  },
  "language_info": {
   "codemirror_mode": {
    "name": "ipython",
    "version": 3
   },
   "file_extension": ".py",
   "mimetype": "text/x-python",
   "name": "python",
   "nbconvert_exporter": "python",
   "pygments_lexer": "ipython3",
   "version": "3.8.6"
  }
 },
 "nbformat": 4,
 "nbformat_minor": 5
}
