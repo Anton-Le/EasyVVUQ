{
 "cells": [
  {
   "cell_type": "markdown",
   "id": "studied-religious",
   "metadata": {},
   "source": [
    "# Markov-Chain Monte Carlo in EasyVVUQ"
   ]
  },
  {
   "cell_type": "markdown",
   "id": "ultimate-serve",
   "metadata": {},
   "source": [
    "We have a model that returns an array of 50 integers where each is supposed to have come from a Poisson distribution with an unknown mean. The model has four input parameters ```a, b, c, d``` and the values of the means depend on the values of those parameters (albeit indirectly)."
   ]
  },
  {
   "cell_type": "code",
   "execution_count": null,
   "id": "auburn-basic",
   "metadata": {},
   "outputs": [],
   "source": [
    "import numpy as np\n",
    "def model(a, b, c, d):\n",
    "    a = int(a)\n",
    "    b = int(b)\n",
    "    c = int(c)\n",
    "    d = int(d)\n",
    "    x = np.linspace(0, 1, 50)\n",
    "    return np.random.poisson(\n",
    "        a * (0.5 * np.sin(2.0 * np.pi * x) + 1.0) +\\\n",
    "        b * (0.5 * np.sin(4.0 * np.pi * x) + 1.0) +\\\n",
    "        c * (0.5 * np.sin(6.0 * np.pi * x) + 1.0) +\\\n",
    "        d * (0.5 * np.sin(8.0 * np.pi * x) + 1.0))"
   ]
  },
  {
   "cell_type": "markdown",
   "id": "corresponding-basket",
   "metadata": {},
   "source": [
    "If we plot the values returned by the model with ```a = b = c = d = 50``` and repeat this 20 times we might get something like the figure below."
   ]
  },
  {
   "cell_type": "code",
   "execution_count": null,
   "id": "hidden-valve",
   "metadata": {},
   "outputs": [],
   "source": [
    "import matplotlib.pyplot as plt\n",
    "for _ in range(20):\n",
    "    plt.plot(model(50, 50, 50, 50), '.')"
   ]
  },
  {
   "cell_type": "markdown",
   "id": "single-content",
   "metadata": {},
   "source": [
    "Then we have an array of 50 values that came from the model. With ```a = 50, b = 80, c = 50 and d = 80```. We will treat them as our observed data. We want to know what input parameters of the model are most likely to result in the values in the ```observed``` array. Because suppose we forgot."
   ]
  },
  {
   "cell_type": "code",
   "execution_count": null,
   "id": "combined-concrete",
   "metadata": {},
   "outputs": [],
   "source": [
    "observed = np.array([227, 257, 280, 344, 326, 319, 253, 281, 247, 221, 195, 189, 199,\n",
    "       212, 221, 210, 228, 230, 217, 199, 217, 199, 175, 176, 202, 233,\n",
    "       246, 284, 292, 260, 264, 220, 204, 227, 220, 232, 228, 253, 244,\n",
    "       258, 225, 209, 203, 174, 138, 119, 126, 155, 199, 238])"
   ]
  },
  {
   "cell_type": "markdown",
   "id": "running-waterproof",
   "metadata": {},
   "source": [
    "More precisely we are interested in $E(f(a, b, c, d | x))$ with $f$ being the joint probability distribution of the input parameter values given some observed values $x$. We know by Bayes theorem that this is proportional to $E(g(x | a, b, c, d) f(a, b, c, d))$. We will use Markov-Chain Monte Carlo (MCMC) to approximate the probability density $g(x | a, b, c, d)$. Namely the probability density of $x$ taking on given values with respect to the input parameters. We know that $x$ is 50 numbers from 50 Poisson distributions with unknown means. We will estimate those means by running the model multiple times and calculating the sample mean because that is the MLE estimate for a Poisson distributed random variable. Suppose we have $\\hat{\\lambda}_i$ that is the estimate. Then we have $g(y | a, b, c, d) = \\prod_{i = 1}^{50} \\frac{\\hat\\lambda_i^{y_i} \\exp(-\\hat\\lambda_i)}{{y_i}!}$. Since it is often more convenient to work with log-likelihoods we arrive at $\\sum_{i = 1}^{50} \\left(y_i \\log(\\hat\\lambda_i) - \\hat\\lambda_i - \\log({y_i}!)\\right)$. Since this is an estimate special care will need to be taken when estimating convergence of the MCMC algorithm."
   ]
  },
  {
   "cell_type": "code",
   "execution_count": null,
   "id": "pleasant-petite",
   "metadata": {},
   "outputs": [],
   "source": [
    "import easyvvuq as uq\n",
    "import chaospy as cp\n",
    "import numpy as np\n",
    "import pandas as pd\n",
    "import os\n",
    "import json"
   ]
  },
  {
   "cell_type": "code",
   "execution_count": null,
   "id": "abandoned-romania",
   "metadata": {},
   "outputs": [],
   "source": [
    "def run_model(directory):\n",
    "    json_input = os.path.join(directory, 'input.json')\n",
    "    with open(json_input, \"r\") as fd:\n",
    "        inputs = json.load(fd)\n",
    "    a = inputs['a']\n",
    "    b = inputs['b']\n",
    "    c = inputs['c']\n",
    "    d = inputs['d']\n",
    "    outfile = inputs['outfile']\n",
    "    data = pd.DataFrame({\"values\": model(a, b, c, d)})\n",
    "    data.to_csv(outfile, index=False)"
   ]
  },
  {
   "cell_type": "code",
   "execution_count": null,
   "id": "upset-rouge",
   "metadata": {},
   "outputs": [],
   "source": [
    "def loglikelihood(lmbda, k):\n",
    "    return (k * np.log(lmbda) - lmbda - scipy.special.gammaln(k + 1.0)).sum()"
   ]
  },
  {
   "cell_type": "code",
   "execution_count": null,
   "id": "promising-nigeria",
   "metadata": {},
   "outputs": [],
   "source": [
    "params = {\n",
    "    \"a\": {\"type\": \"float\", \"min\": 0, \"max\": 100, \"default\": 50},\n",
    "    \"b\": {\"type\": \"float\", \"min\": 0, \"max\": 100, \"default\": 50},\n",
    "    \"c\": {\"type\": \"float\", \"min\": 0, \"max\": 100, \"default\": 50},\n",
    "    \"d\": {\"type\": \"float\", \"min\": 0, \"max\": 100, \"default\": 50},\n",
    "    \"outfile\": {\"type\": \"string\", \"default\": \"output.csv\"},\n",
    "    \"replica_id\": {\"type\": \"integer\", \"default\": 0},\n",
    "    \"chain_id\": {\"type\": \"integer\", \"default\": 0}\n",
    "}\n",
    "encoder = uq.encoders.GenericEncoder(template_fname=\"mcmc.template\", \n",
    "                                     delimiter=\"$\", target_filename=\"input.json\")\n",
    "decoder = uq.decoders.SimpleCSV(\"output.csv\", [\"value\"])\n",
    "campaign = uq.Campaign(\n",
    "    name=\"mcmc\", encoder=encoder, decoder=decoder, \n",
    "    params=params, work_dir='.')"
   ]
  },
  {
   "cell_type": "code",
   "execution_count": null,
   "id": "packed-factor",
   "metadata": {},
   "outputs": [],
   "source": [
    "vary_init = {\n",
    "    \"a\": np.random.uniform(0, 100, size=10),\n",
    "    \"b\": np.random.uniform(0, 100, size=10),\n",
    "    \"c\": np.random.uniform(0, 100, size=10),\n",
    "    \"d\": np.random.uniform(0, 100, size=10)\n",
    "}"
   ]
  },
  {
   "cell_type": "code",
   "execution_count": null,
   "id": "higher-suspect",
   "metadata": {},
   "outputs": [],
   "source": [
    "def q(x, b=30):\n",
    "    return cp.J(cp.Normal(x['a'], b), \n",
    "                cp.Normal(x['b'], b), \n",
    "                cp.Normal(x['c'], b), \n",
    "                cp.Normal(x['d'], b))"
   ]
  },
  {
   "cell_type": "code",
   "execution_count": null,
   "id": "cordless-guidance",
   "metadata": {},
   "outputs": [],
   "source": [
    "mcmc_sampler = uq.sampling.MCMCSampler(\n",
    "    vary_init, q, 'value', n_chains=10, \n",
    "    replica_col=\"replica_id\", estimator=lambda x: np.mean(x))\n",
    "sampler = uq.sampling.ReplicaSampler(mcmc_sampler)\n",
    "campaign.set_sampler(sampler)"
   ]
  },
  {
   "cell_type": "code",
   "execution_count": null,
   "id": "contrary-biotechnology",
   "metadata": {},
   "outputs": [],
   "source": [
    "for _ in range(100):\n",
    "    campaign.sample_and_apply(uq.actions.ExecutePython(run_model), nsamples=200).start()\n",
    "    campaign.collate()\n",
    "    mcmc_sampler.update(campaign)"
   ]
  },
  {
   "cell_type": "code",
   "execution_count": null,
   "id": "institutional-bermuda",
   "metadata": {},
   "outputs": [],
   "source": []
  }
 ],
 "metadata": {
  "kernelspec": {
   "display_name": "Python 3",
   "language": "python",
   "name": "python3"
  },
  "language_info": {
   "codemirror_mode": {
    "name": "ipython",
    "version": 3
   },
   "file_extension": ".py",
   "mimetype": "text/x-python",
   "name": "python",
   "nbconvert_exporter": "python",
   "pygments_lexer": "ipython3",
   "version": "3.8.6"
  }
 },
 "nbformat": 4,
 "nbformat_minor": 5
}
