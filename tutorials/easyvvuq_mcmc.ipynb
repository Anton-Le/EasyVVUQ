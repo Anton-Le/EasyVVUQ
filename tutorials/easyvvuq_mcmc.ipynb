{
 "cells": [
  {
   "cell_type": "markdown",
   "id": "measured-strengthening",
   "metadata": {},
   "source": [
    "# MCMC in EasyVVUQ"
   ]
  },
  {
   "cell_type": "markdown",
   "id": "chief-morocco",
   "metadata": {},
   "source": [
    "EasyVVUQ provides support for MCMC sampling with multiple chains in parallel."
   ]
  },
  {
   "cell_type": "code",
   "execution_count": 1,
   "id": "mechanical-deposit",
   "metadata": {},
   "outputs": [],
   "source": [
    "import os\n",
    "import easyvvuq as uq\n",
    "import numpy as np\n",
    "import chaospy as cp\n",
    "import json\n",
    "import matplotlib.pyplot as plt\n",
    "import sys"
   ]
  },
  {
   "cell_type": "markdown",
   "id": "leading-aging",
   "metadata": {},
   "source": [
    "We define a Rosenbrock function in 2 dimensions for testing purposes. This will be a stand-in for our probability density."
   ]
  },
  {
   "cell_type": "code",
   "execution_count": 2,
   "id": "allied-earthquake",
   "metadata": {},
   "outputs": [],
   "source": [
    "def rosenbrock(directory):\n",
    "    json_input = os.path.join(directory, 'input.json')\n",
    "    if not os.path.isfile(json_input):\n",
    "        sys.exit(json_input + \" does not exist.\")\n",
    "    with open(json_input, \"r\") as fd:\n",
    "        inputs = json.load(fd)\n",
    "    x1 = float(inputs['x1'])\n",
    "    x2 = float(inputs['x2'])\n",
    "    output_filename = os.path.join(directory, inputs['outfile'])\n",
    "    y = (1.0 - x1) ** 2 + 100.0 * (x2 - x1 ** 2) ** 2\n",
    "    with open(output_filename, 'w') as fd:\n",
    "        json.dump({'value': -y}, fd)"
   ]
  },
  {
   "cell_type": "markdown",
   "id": "royal-camel",
   "metadata": {},
   "source": [
    "Next we define a helper function to create a campaign, sample the search space and return the corresponding DataFrame."
   ]
  },
  {
   "cell_type": "code",
   "execution_count": 3,
   "id": "robust-intensity",
   "metadata": {},
   "outputs": [],
   "source": [
    "def mcmc(tmp_path='.'):\n",
    "    campaign = uq.Campaign(name=\"mcmc\", work_dir=tmp_path)\n",
    "    params = {\n",
    "        \"x1\": {\"type\": \"float\", \"default\": 0.0},\n",
    "        \"x2\": {\"type\": \"float\", \"default\": 0.0},\n",
    "        \"out_file\": {\"type\": \"string\", \"default\": \"output.json\"},\n",
    "        \"chain_id\": {\"type\": \"integer\", \"default\": 0}\n",
    "    }\n",
    "    encoder = uq.encoders.GenericEncoder(\n",
    "        template_fname=os.path.abspath(\"rosenbrock.template\"), delimiter=\"$\", target_filename=\"input.json\")\n",
    "    decoder = uq.decoders.JSONDecoder(\"output.json\", [\"value\"])\n",
    "    campaign.add_app(name=\"mcmc\", params=params, encoder=encoder, decoder=decoder)\n",
    "    vary_init = {\n",
    "        \"x1\": [-1.0, 0.0, 1.0, 0.5, 0.1],\n",
    "        \"x2\": [1.0, 0.0, 0.5, 1.0, 0.2]\n",
    "    }\n",
    "    def q(x, b=1):\n",
    "        return cp.J(cp.Normal(x['x1'], b), cp.Normal(x['x2'], b))\n",
    "    sampler = uq.sampling.MCMCSampler(vary_init, q, 'value', n_chains=5)\n",
    "    campaign.set_sampler(sampler)\n",
    "    action = uq.actions.ExecutePython(rosenbrock)\n",
    "    for _ in range(1000):\n",
    "        campaign.draw_samples()\n",
    "        campaign.populate_runs_dir()\n",
    "        campaign.apply_for_each_run_dir(action)\n",
    "        campaign.collate()\n",
    "        sampler.update(campaign)\n",
    "    df = campaign.get_collation_result()\n",
    "    return df"
   ]
  },
  {
   "cell_type": "code",
   "execution_count": 4,
   "id": "amino-charger",
   "metadata": {},
   "outputs": [],
   "source": [
    "df = mcmc()"
   ]
  },
  {
   "cell_type": "markdown",
   "id": "included-announcement",
   "metadata": {},
   "source": [
    "Finally we plot the the five different chains."
   ]
  },
  {
   "cell_type": "code",
   "execution_count": 5,
   "id": "legislative-brief",
   "metadata": {},
   "outputs": [
    {
     "data": {
      "text/plain": [
       "[<matplotlib.lines.Line2D at 0x12c942ee0>]"
      ]
     },
     "execution_count": 5,
     "metadata": {},
     "output_type": "execute_result"
    },
    {
     "data": {
      "image/png": "[encoded data removed]",
      "text/plain": [
       "<Figure size 432x288 with 1 Axes>"
      ]
     },
     "metadata": {
      "needs_background": "light"
     },
     "output_type": "display_data"
    }
   ],
   "source": [
    "import matplotlib.pyplot as plt\n",
    "plt.plot(df[(df['chain_id'] == 0).values]['x1'], df[(df['chain_id'] == 0).values]['x2'], alpha=0.5)\n",
    "plt.plot(df[(df['chain_id'] == 1).values]['x1'], df[(df['chain_id'] == 1).values]['x2'], alpha=0.5)\n",
    "plt.plot(df[(df['chain_id'] == 2).values]['x1'], df[(df['chain_id'] == 2).values]['x2'], alpha=0.5)\n",
    "plt.plot(df[(df['chain_id'] == 3).values]['x1'], df[(df['chain_id'] == 3).values]['x2'], alpha=0.5)\n",
    "plt.plot(df[(df['chain_id'] == 4).values]['x1'], df[(df['chain_id'] == 4).values]['x2'], alpha=0.5)"
   ]
  },
  {
   "cell_type": "markdown",
   "id": "mineral-barrier",
   "metadata": {},
   "source": [
    "Finally let us plot a histogram of this data."
   ]
  },
  {
   "cell_type": "code",
   "execution_count": 6,
   "id": "affecting-collapse",
   "metadata": {},
   "outputs": [
    {
     "data": {
      "image/png": "[encoded data removed]",
      "text/plain": [
       "<Figure size 432x288 with 1 Axes>"
      ]
     },
     "metadata": {
      "needs_background": "light"
     },
     "output_type": "display_data"
    }
   ],
   "source": [
    "hist = plt.hist2d(df['x1'].T.values[0], df['x2'].T.values[0], bins=20)"
   ]
  },
  {
   "cell_type": "code",
   "execution_count": null,
   "id": "finished-prior",
   "metadata": {},
   "outputs": [],
   "source": []
  },
  {
   "cell_type": "code",
   "execution_count": null,
   "id": "challenging-wings",
   "metadata": {},
   "outputs": [],
   "source": []
  }
 ],
 "metadata": {
  "kernelspec": {
   "display_name": "Python 3",
   "language": "python",
   "name": "python3"
  },
  "language_info": {
   "codemirror_mode": {
    "name": "ipython",
    "version": 3
   },
   "file_extension": ".py",
   "mimetype": "text/x-python",
   "name": "python",
   "nbconvert_exporter": "python",
   "pygments_lexer": "ipython3",
   "version": "3.8.6"
  }
 },
 "nbformat": 4,
 "nbformat_minor": 5
}
