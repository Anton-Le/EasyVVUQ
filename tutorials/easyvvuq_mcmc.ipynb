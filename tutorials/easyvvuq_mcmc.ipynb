{
 "cells": [
  {
   "cell_type": "code",
   "execution_count": 1,
   "id": "mechanical-deposit",
   "metadata": {},
   "outputs": [],
   "source": [
    "import os\n",
    "import easyvvuq as uq\n",
    "import numpy as np\n",
    "import chaospy as cp\n",
    "import json\n",
    "import matplotlib.pyplot as plt\n",
    "import sys"
   ]
  },
  {
   "cell_type": "code",
   "execution_count": 2,
   "id": "allied-earthquake",
   "metadata": {},
   "outputs": [],
   "source": [
    "def rosenbrock(directory):\n",
    "    json_input = os.path.join(directory, 'input.json')\n",
    "    if not os.path.isfile(json_input):\n",
    "        sys.exit(json_input + \" does not exist.\")\n",
    "    with open(json_input, \"r\") as fd:\n",
    "        inputs = json.load(fd)\n",
    "    x1 = float(inputs['x1'])\n",
    "    x2 = float(inputs['x2'])\n",
    "    output_filename = os.path.join(directory, inputs['outfile'])\n",
    "    y = (1.0 - x1) ** 2 + 100.0 * (x2 - x1 ** 2) ** 2\n",
    "    with open(output_filename, 'w') as fd:\n",
    "        json.dump({'value': -y}, fd)"
   ]
  },
  {
   "cell_type": "code",
   "execution_count": 3,
   "id": "robust-intensity",
   "metadata": {},
   "outputs": [],
   "source": [
    "def test_mcmc(tmp_path='.'):\n",
    "    campaign = uq.Campaign(name=\"mcmc\", work_dir=tmp_path)\n",
    "    params = {\n",
    "        \"x1\": {\"type\": \"float\", \"default\": 0.0},\n",
    "        \"x2\": {\"type\": \"float\", \"default\": 0.0},\n",
    "        \"out_file\": {\"type\": \"string\", \"default\": \"output.json\"}\n",
    "    }\n",
    "    encoder = uq.encoders.GenericEncoder(\n",
    "        template_fname=os.path.abspath(\"rosenbrock.template\"), delimiter=\"$\", target_filename=\"input.json\")\n",
    "    decoder = uq.decoders.JSONDecoder(\"output.json\", [\"value\"])\n",
    "    campaign.add_app(name=\"mcmc\", params=params, encoder=encoder, decoder=decoder)\n",
    "    vary_init = {\n",
    "        \"x1\": -3.0,\n",
    "        \"x2\": 2.0\n",
    "    }\n",
    "    def q(x, b=0.1):\n",
    "        return cp.J(cp.Normal(x['x1'], b), cp.Normal(x['x2'], b))\n",
    "    sampler = uq.sampling.MCMCSampler(vary_init, q, 'value')\n",
    "    campaign.set_sampler(sampler)\n",
    "    action = uq.actions.ExecutePython(rosenbrock)\n",
    "    ignored = sampler.mcmc_sampling(campaign, action, 200)\n",
    "    df = campaign.get_collation_result()\n",
    "    return df\n",
    "    analysis = uq.analysis.MCMCAnalysis(sampler, 'value')\n",
    "    result = analysis.analyse(df)"
   ]
  },
  {
   "cell_type": "code",
   "execution_count": 4,
   "id": "amino-charger",
   "metadata": {},
   "outputs": [],
   "source": [
    "test_mcmc()"
   ]
  },
  {
   "cell_type": "code",
   "execution_count": null,
   "id": "legislative-brief",
   "metadata": {},
   "outputs": [],
   "source": []
  }
 ],
 "metadata": {
  "kernelspec": {
   "display_name": "Python 3",
   "language": "python",
   "name": "python3"
  },
  "language_info": {
   "codemirror_mode": {
    "name": "ipython",
    "version": 3
   },
   "file_extension": ".py",
   "mimetype": "text/x-python",
   "name": "python",
   "nbconvert_exporter": "python",
   "pygments_lexer": "ipython3",
   "version": "3.8.6"
  }
 },
 "nbformat": 4,
 "nbformat_minor": 5
}
