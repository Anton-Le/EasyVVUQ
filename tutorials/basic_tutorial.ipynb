{
 "cells": [
  {
   "cell_type": "markdown",
   "id": "right-territory",
   "metadata": {},
   "source": [
    "# EasyVVUQ - Basic Concepts"
   ]
  },
  {
   "cell_type": "markdown",
   "id": "pointed-september",
   "metadata": {},
   "source": [
    "This tutorial shows a simple EasyVVUQ workflow in action. The example used here is a simulation of a robotic arm. Description of it can be found [here](https://www.sfu.ca/~ssurjano/robot.html)."
   ]
  },
  {
   "cell_type": "markdown",
   "id": "assisted-alias",
   "metadata": {},
   "source": [
    "The usage of the application is:\n",
    "\n",
    "```robot <input_file>```\n",
    "\n",
    "It outputs a single file called output.json, which will look like ```{'distance': 30}``` or similar where ```distance``` is the distance between the plane to which the robot arm is attached and the end of the arm.\n",
    "\n",
    "The robot.template is a template input file, in JSON format\n",
    "\n",
    "```{\"outfile\": \"$out_file\", \"theta1\": $theta1, \"theta2\" $theta2, \"theta3\": $theta3, \"theta4\": $theta4, \"L1\": $L1, \"L2\": $L2, \"L3\": $L3, \"L4\": $L4}```\n",
    "\n",
    "The thetas are angles (in radians) between the four robotic arm segments and L's are their lengths (in arbitrary units). The values for each key are tags (signified by the $ delimiter) which will be substituted by EasyVVUQ with values to sample the parameter space. In the following tutorial, the template will be used to generate files called input.json that will be the input to each run of ```robot```."
   ]
  },
  {
   "cell_type": "markdown",
   "id": "renewable-oxygen",
   "metadata": {},
   "source": [
    "So, for example:"
   ]
  },
  {
   "cell_type": "code",
   "execution_count": null,
   "id": "executed-better",
   "metadata": {},
   "outputs": [],
   "source": [
    "!echo \"{\\\"outfile\\\": \\\"output.json\\\", \\\"theta1\\\": 0.5, \\\"theta2\\\": 0.5, \\\"theta3\\\": 0.25, \\\"theta4\\\": 0.75, \\\"L1\\\": 1, \\\"L2\\\": 1, \\\"L3\\\": 1, \\\"L4\\\": 1}\" > input.json"
   ]
  },
  {
   "cell_type": "code",
   "execution_count": null,
   "id": "restricted-pixel",
   "metadata": {},
   "outputs": [],
   "source": [
    "!./robot input.json"
   ]
  },
  {
   "cell_type": "code",
   "execution_count": null,
   "id": "coordinated-spare",
   "metadata": {},
   "outputs": [],
   "source": [
    "!cat output.json"
   ]
  },
  {
   "cell_type": "markdown",
   "id": "personal-arizona",
   "metadata": {},
   "source": [
    "# Campaign"
   ]
  },
  {
   "cell_type": "code",
   "execution_count": 1,
   "id": "bulgarian-angel",
   "metadata": {},
   "outputs": [],
   "source": [
    "import easyvvuq as uq\n",
    "import chaospy as cp"
   ]
  },
  {
   "cell_type": "code",
   "execution_count": 2,
   "id": "reflected-moore",
   "metadata": {},
   "outputs": [],
   "source": [
    "params = {\n",
    "    \"theta1\": {\"type\": \"float\", \"min\": 0.0, \"max\": 1.0, \"default\": 0.5}, \n",
    "    \"theta2\": {\"type\": \"float\", \"min\": 0.0, \"max\": 1.0, \"default\": 0.5}, \n",
    "    \"theta3\": {\"type\": \"float\", \"min\": 0.0, \"max\": 1.0, \"default\": 0.5}, \n",
    "    \"theta4\": {\"type\": \"float\", \"min\": 0.0, \"max\": 1.0, \"default\": 0.5},\n",
    "    \"L1\": {\"type\": \"float\", \"min\": 0.0, \"default\": 1.0},\n",
    "    \"L2\": {\"type\": \"float\", \"min\": 0.0, \"default\": 1.0},\n",
    "    \"L3\": {\"type\": \"float\", \"min\": 0.0, \"default\": 1.0},\n",
    "    \"L4\": {\"type\": \"float\", \"min\": 0.0, \"default\": 1.0},\n",
    "    \"outfile\": {\"type\": \"string\", \"default\": \"output.json\"}\n",
    "}"
   ]
  },
  {
   "cell_type": "code",
   "execution_count": 3,
   "id": "czech-essence",
   "metadata": {},
   "outputs": [],
   "source": [
    "encoder = uq.encoders.GenericEncoder(template_fname='robot.template', delimiter='$', target_filename='input.json')\n",
    "decoder = uq.decoders.JSONDecoder(target_filename='output.json', output_columns=['distance'])"
   ]
  },
  {
   "cell_type": "code",
   "execution_count": 4,
   "id": "structured-concept",
   "metadata": {},
   "outputs": [],
   "source": [
    "campaign = uq.Campaign(name='robot', params=params, encoder=encoder, decoder=decoder)"
   ]
  },
  {
   "cell_type": "code",
   "execution_count": 5,
   "id": "pretty-maintenance",
   "metadata": {},
   "outputs": [],
   "source": [
    "vary = {\n",
    "    \"theta1\": cp.Uniform(0, 1),\n",
    "    \"theta2\": cp.Uniform(0, 1),\n",
    "    \"theta3\": cp.Uniform(0, 1),\n",
    "    \"theta4\": cp.Uniform(0, 1)\n",
    "}"
   ]
  },
  {
   "cell_type": "code",
   "execution_count": 6,
   "id": "emerging-telling",
   "metadata": {},
   "outputs": [],
   "source": [
    "campaign.set_sampler(uq.sampling.PCESampler(vary=vary, polynomial_order=3))"
   ]
  },
  {
   "cell_type": "code",
   "execution_count": 7,
   "id": "labeled-chancellor",
   "metadata": {},
   "outputs": [],
   "source": [
    "execution = campaign.sample_and_apply(action=uq.actions.ExecuteLocalV2(\"robot input.json\"))"
   ]
  },
  {
   "cell_type": "code",
   "execution_count": 8,
   "id": "oriented-syntax",
   "metadata": {},
   "outputs": [],
   "source": [
    "execution.start();"
   ]
  },
  {
   "cell_type": "code",
   "execution_count": 16,
   "id": "republican-hunger",
   "metadata": {},
   "outputs": [
    {
     "data": {
      "text/plain": [
       "{'ready': 184, 'active': 8, 'finished': 64, 'failed': 0}"
      ]
     },
     "execution_count": 16,
     "metadata": {},
     "output_type": "execute_result"
    }
   ],
   "source": [
    "execution.progress()"
   ]
  },
  {
   "cell_type": "code",
   "execution_count": 17,
   "id": "formal-energy",
   "metadata": {},
   "outputs": [],
   "source": [
    "results = campaign.analyse(qoi_cols=['distance'])"
   ]
  },
  {
   "cell_type": "code",
   "execution_count": null,
   "id": "adult-lobby",
   "metadata": {},
   "outputs": [],
   "source": [
    "results.sobols_first()"
   ]
  },
  {
   "cell_type": "code",
   "execution_count": null,
   "id": "unavailable-geometry",
   "metadata": {},
   "outputs": [],
   "source": []
  }
 ],
 "metadata": {
  "kernelspec": {
   "display_name": "Python 3",
   "language": "python",
   "name": "python3"
  },
  "language_info": {
   "codemirror_mode": {
    "name": "ipython",
    "version": 3
   },
   "file_extension": ".py",
   "mimetype": "text/x-python",
   "name": "python",
   "nbconvert_exporter": "python",
   "pygments_lexer": "ipython3",
   "version": "3.8.6"
  }
 },
 "nbformat": 4,
 "nbformat_minor": 5
}
