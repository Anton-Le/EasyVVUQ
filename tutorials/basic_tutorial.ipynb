{
 "cells": [
  {
   "cell_type": "markdown",
   "id": "republican-charleston",
   "metadata": {},
   "source": [
    "# EasyVVUQ - Basic Concepts"
   ]
  },
  {
   "cell_type": "markdown",
   "id": "subjective-calcium",
   "metadata": {},
   "source": [
    "This tutorial shows a simple EasyVVUQ workflow in action. The example used here is a simulation of a robotic arm. Description of it can be found [here](https://www.sfu.ca/~ssurjano/robot.html)."
   ]
  },
  {
   "cell_type": "markdown",
   "id": "treated-vermont",
   "metadata": {},
   "source": [
    "The usage of the application is:\n",
    "\n",
    "```robot <input_file>```\n",
    "\n",
    "It outputs a single file called output.json, which will look like ```{'distance': 30}``` or similar where ```distance``` is the distance between the plane to which the robot arm is attached and the end of the arm.\n",
    "\n",
    "The robot.template is a template input file, in JSON format\n",
    "\n",
    "```{\"outfile\": \"$out_file\", \"theta1\": $theta1, \"theta2\" $theta2, \"theta3\": $theta3, \"theta4\": $theta4, \"L1\": $L1, \"L2\": $L2, \"L3\": $L3, \"L4\": $L4}```\n",
    "\n",
    "The thetas are angles (in radians) between the four robotic arm segments and L's are their lengths (in arbitrary units). The values for each key are tags (signified by the $ delimiter) which will be substituted by EasyVVUQ with values to sample the parameter space. In the following tutorial, the template will be used to generate files called input.json that will be the input to each run of ```robot```."
   ]
  },
  {
   "cell_type": "markdown",
   "id": "wrong-hammer",
   "metadata": {},
   "source": [
    "So, for example:"
   ]
  },
  {
   "cell_type": "code",
   "execution_count": null,
   "id": "permanent-community",
   "metadata": {},
   "outputs": [],
   "source": [
    "!echo \"{\\\"outfile\\\": \\\"output.json\\\", \\\"theta1\\\": 0.5, \\\"theta2\\\": 0.5, \\\"theta3\\\": 0.25, \\\"theta4\\\": 0.75, \\\"L1\\\": 1, \\\"L2\\\": 1, \\\"L3\\\": 1, \\\"L4\\\": 1}\" > input.json"
   ]
  },
  {
   "cell_type": "code",
   "execution_count": null,
   "id": "bacterial-desperate",
   "metadata": {},
   "outputs": [],
   "source": [
    "!./robot input.json"
   ]
  },
  {
   "cell_type": "code",
   "execution_count": null,
   "id": "expressed-encoding",
   "metadata": {},
   "outputs": [],
   "source": [
    "!cat output.json"
   ]
  },
  {
   "cell_type": "markdown",
   "id": "special-handy",
   "metadata": {},
   "source": [
    "# Campaign"
   ]
  },
  {
   "cell_type": "code",
   "execution_count": 1,
   "id": "paperback-slave",
   "metadata": {},
   "outputs": [],
   "source": [
    "import easyvvuq as uq\n",
    "import chaospy as cp"
   ]
  },
  {
   "cell_type": "code",
   "execution_count": 2,
   "id": "beneficial-sterling",
   "metadata": {},
   "outputs": [],
   "source": [
    "params = {\n",
    "    \"theta1\": {\"type\": \"float\", \"min\": 0.0, \"max\": 1.0, \"default\": 0.5}, \n",
    "    \"theta2\": {\"type\": \"float\", \"min\": 0.0, \"max\": 1.0, \"default\": 0.5}, \n",
    "    \"theta3\": {\"type\": \"float\", \"min\": 0.0, \"max\": 1.0, \"default\": 0.5}, \n",
    "    \"theta4\": {\"type\": \"float\", \"min\": 0.0, \"max\": 1.0, \"default\": 0.5},\n",
    "    \"L1\": {\"type\": \"float\", \"min\": 0.0, \"default\": 1.0},\n",
    "    \"L2\": {\"type\": \"float\", \"min\": 0.0, \"default\": 1.0},\n",
    "    \"L3\": {\"type\": \"float\", \"min\": 0.0, \"default\": 1.0},\n",
    "    \"L4\": {\"type\": \"float\", \"min\": 0.0, \"default\": 1.0},\n",
    "    \"outfile\": {\"type\": \"string\", \"default\": \"output.json\"}\n",
    "}"
   ]
  },
  {
   "cell_type": "code",
   "execution_count": 3,
   "id": "encouraging-james",
   "metadata": {},
   "outputs": [],
   "source": [
    "encoder = uq.encoders.GenericEncoder(template_fname='robot.template', delimiter='$', target_filename='input.json')\n",
    "decoder = uq.decoders.JSONDecoder(target_filename='output.json', output_columns=['distance'])"
   ]
  },
  {
   "cell_type": "code",
   "execution_count": 4,
   "id": "addressed-winner",
   "metadata": {},
   "outputs": [],
   "source": [
    "campaign = uq.Campaign(name='robot', params=params, encoder=encoder, decoder=decoder)"
   ]
  },
  {
   "cell_type": "code",
   "execution_count": 5,
   "id": "suitable-claim",
   "metadata": {},
   "outputs": [],
   "source": [
    "vary = {\n",
    "    \"theta1\": cp.Uniform(0, 1),\n",
    "    \"theta2\": cp.Uniform(0, 1),\n",
    "    \"theta3\": cp.Uniform(0, 1),\n",
    "    \"theta4\": cp.Uniform(0, 1)\n",
    "}"
   ]
  },
  {
   "cell_type": "code",
   "execution_count": 6,
   "id": "dominican-grill",
   "metadata": {},
   "outputs": [],
   "source": [
    "campaign.set_sampler(uq.sampling.PCESampler(vary=vary, polynomial_order=3))"
   ]
  },
  {
   "cell_type": "code",
   "execution_count": 14,
   "id": "abandoned-check",
   "metadata": {},
   "outputs": [],
   "source": [
    "execution = campaign.sample_and_apply(action=uq.actions.ExecuteLocalV2(\"robot input.json\"))"
   ]
  },
  {
   "cell_type": "code",
   "execution_count": 15,
   "id": "cellular-airline",
   "metadata": {},
   "outputs": [],
   "source": [
    "execution.start();"
   ]
  },
  {
   "cell_type": "code",
   "execution_count": 17,
   "id": "baking-devon",
   "metadata": {},
   "outputs": [
    {
     "data": {
      "text/plain": [
       "{'ready': 0, 'active': 0, 'finished': 0, 'failed': 0}"
      ]
     },
     "execution_count": 17,
     "metadata": {},
     "output_type": "execute_result"
    }
   ],
   "source": [
    "execution.progress()"
   ]
  },
  {
   "cell_type": "code",
   "execution_count": 18,
   "id": "instant-season",
   "metadata": {},
   "outputs": [],
   "source": [
    "results = campaign.analyse(qoi_cols=['distance'])"
   ]
  },
  {
   "cell_type": "code",
   "execution_count": 19,
   "id": "convenient-tennis",
   "metadata": {},
   "outputs": [
    {
     "data": {
      "text/plain": [
       "{'distance': {'theta1': array([1.89233086e-29]),\n",
       "  'theta2': array([0.27726841]),\n",
       "  'theta3': array([0.28837432]),\n",
       "  'theta4': array([0.27726841])}}"
      ]
     },
     "execution_count": 19,
     "metadata": {},
     "output_type": "execute_result"
    }
   ],
   "source": [
    "results.sobols_first()"
   ]
  },
  {
   "cell_type": "markdown",
   "id": "fossil-qatar",
   "metadata": {},
   "source": [
    "Alternatively you can try using Stochastic Collocation. The procedure is exactly the same."
   ]
  },
  {
   "cell_type": "code",
   "execution_count": 20,
   "id": "dramatic-bleeding",
   "metadata": {},
   "outputs": [
    {
     "name": "stdout",
     "output_type": "stream",
     "text": [
      "Received integer polynomial order, assuming isotropic grid\n"
     ]
    }
   ],
   "source": [
    "campaign.set_sampler(uq.sampling.SCSampler(vary=vary, polynomial_order=3))"
   ]
  },
  {
   "cell_type": "code",
   "execution_count": 21,
   "id": "flexible-hopkins",
   "metadata": {},
   "outputs": [],
   "source": [
    "execution = campaign.sample_and_apply(action=uq.actions.ExecuteLocalV2(\"robot input.json\"))"
   ]
  },
  {
   "cell_type": "code",
   "execution_count": 22,
   "id": "overall-specialist",
   "metadata": {},
   "outputs": [],
   "source": [
    "execution.start();"
   ]
  },
  {
   "cell_type": "code",
   "execution_count": 29,
   "id": "pressing-peripheral",
   "metadata": {},
   "outputs": [
    {
     "data": {
      "text/plain": [
       "{'ready': 0, 'active': 0, 'finished': 256, 'failed': 0}"
      ]
     },
     "execution_count": 29,
     "metadata": {},
     "output_type": "execute_result"
    }
   ],
   "source": [
    "execution.progress()"
   ]
  },
  {
   "cell_type": "code",
   "execution_count": 30,
   "id": "classified-mauritius",
   "metadata": {},
   "outputs": [
    {
     "name": "stdout",
     "output_type": "stream",
     "text": [
      "Loading samples...\n",
      "done\n",
      "Computing Sobol indices...\n",
      "done.\n"
     ]
    }
   ],
   "source": [
    "results = campaign.analyse(qoi_cols=['distance'])"
   ]
  },
  {
   "cell_type": "code",
   "execution_count": 33,
   "id": "proprietary-fighter",
   "metadata": {},
   "outputs": [
    {
     "data": {
      "text/plain": [
       "{'distance': {'theta1': array([1.95649716e-15]),\n",
       "  'theta2': array([0.13958238]),\n",
       "  'theta3': array([0.14517331]),\n",
       "  'theta4': array([0.13958238])}}"
      ]
     },
     "execution_count": 33,
     "metadata": {},
     "output_type": "execute_result"
    }
   ],
   "source": [
    "results.sobols_first()"
   ]
  },
  {
   "cell_type": "code",
   "execution_count": 32,
   "id": "frequent-parts",
   "metadata": {},
   "outputs": [
    {
     "data": {
      "text/html": [
       "<div>\n",
       "<style scoped>\n",
       "    .dataframe tbody tr th:only-of-type {\n",
       "        vertical-align: middle;\n",
       "    }\n",
       "\n",
       "    .dataframe tbody tr th {\n",
       "        vertical-align: top;\n",
       "    }\n",
       "\n",
       "    .dataframe thead tr th {\n",
       "        text-align: left;\n",
       "    }\n",
       "</style>\n",
       "<table border=\"1\" class=\"dataframe\">\n",
       "  <thead>\n",
       "    <tr>\n",
       "      <th></th>\n",
       "      <th>run_id</th>\n",
       "      <th>theta1</th>\n",
       "      <th>theta2</th>\n",
       "      <th>theta3</th>\n",
       "      <th>theta4</th>\n",
       "      <th>L1</th>\n",
       "      <th>L2</th>\n",
       "      <th>L3</th>\n",
       "      <th>L4</th>\n",
       "      <th>outfile</th>\n",
       "      <th>distance</th>\n",
       "    </tr>\n",
       "    <tr>\n",
       "      <th></th>\n",
       "      <th>0</th>\n",
       "      <th>0</th>\n",
       "      <th>0</th>\n",
       "      <th>0</th>\n",
       "      <th>0</th>\n",
       "      <th>0</th>\n",
       "      <th>0</th>\n",
       "      <th>0</th>\n",
       "      <th>0</th>\n",
       "      <th>0</th>\n",
       "      <th>0</th>\n",
       "    </tr>\n",
       "  </thead>\n",
       "  <tbody>\n",
       "    <tr>\n",
       "      <th>0</th>\n",
       "      <td>257</td>\n",
       "      <td>0.069432</td>\n",
       "      <td>0.069432</td>\n",
       "      <td>0.069432</td>\n",
       "      <td>0.069432</td>\n",
       "      <td>1.0</td>\n",
       "      <td>1.0</td>\n",
       "      <td>1.0</td>\n",
       "      <td>1.0</td>\n",
       "      <td>output.json</td>\n",
       "      <td>3.539460</td>\n",
       "    </tr>\n",
       "    <tr>\n",
       "      <th>1</th>\n",
       "      <td>258</td>\n",
       "      <td>0.069432</td>\n",
       "      <td>0.069432</td>\n",
       "      <td>0.069432</td>\n",
       "      <td>0.330009</td>\n",
       "      <td>1.0</td>\n",
       "      <td>1.0</td>\n",
       "      <td>1.0</td>\n",
       "      <td>1.0</td>\n",
       "      <td>output.json</td>\n",
       "      <td>2.090885</td>\n",
       "    </tr>\n",
       "    <tr>\n",
       "      <th>2</th>\n",
       "      <td>259</td>\n",
       "      <td>0.069432</td>\n",
       "      <td>0.069432</td>\n",
       "      <td>0.069432</td>\n",
       "      <td>0.669991</td>\n",
       "      <td>1.0</td>\n",
       "      <td>1.0</td>\n",
       "      <td>1.0</td>\n",
       "      <td>1.0</td>\n",
       "      <td>output.json</td>\n",
       "      <td>2.921915</td>\n",
       "    </tr>\n",
       "    <tr>\n",
       "      <th>3</th>\n",
       "      <td>260</td>\n",
       "      <td>0.069432</td>\n",
       "      <td>0.069432</td>\n",
       "      <td>0.069432</td>\n",
       "      <td>0.930568</td>\n",
       "      <td>1.0</td>\n",
       "      <td>1.0</td>\n",
       "      <td>1.0</td>\n",
       "      <td>1.0</td>\n",
       "      <td>output.json</td>\n",
       "      <td>3.812682</td>\n",
       "    </tr>\n",
       "    <tr>\n",
       "      <th>4</th>\n",
       "      <td>261</td>\n",
       "      <td>0.069432</td>\n",
       "      <td>0.069432</td>\n",
       "      <td>0.330009</td>\n",
       "      <td>0.069432</td>\n",
       "      <td>1.0</td>\n",
       "      <td>1.0</td>\n",
       "      <td>1.0</td>\n",
       "      <td>1.0</td>\n",
       "      <td>output.json</td>\n",
       "      <td>1.213296</td>\n",
       "    </tr>\n",
       "    <tr>\n",
       "      <th>...</th>\n",
       "      <td>...</td>\n",
       "      <td>...</td>\n",
       "      <td>...</td>\n",
       "      <td>...</td>\n",
       "      <td>...</td>\n",
       "      <td>...</td>\n",
       "      <td>...</td>\n",
       "      <td>...</td>\n",
       "      <td>...</td>\n",
       "      <td>...</td>\n",
       "      <td>...</td>\n",
       "    </tr>\n",
       "    <tr>\n",
       "      <th>251</th>\n",
       "      <td>508</td>\n",
       "      <td>0.930568</td>\n",
       "      <td>0.930568</td>\n",
       "      <td>0.669991</td>\n",
       "      <td>0.930568</td>\n",
       "      <td>1.0</td>\n",
       "      <td>1.0</td>\n",
       "      <td>1.0</td>\n",
       "      <td>1.0</td>\n",
       "      <td>output.json</td>\n",
       "      <td>1.213296</td>\n",
       "    </tr>\n",
       "    <tr>\n",
       "      <th>252</th>\n",
       "      <td>509</td>\n",
       "      <td>0.930568</td>\n",
       "      <td>0.930568</td>\n",
       "      <td>0.930568</td>\n",
       "      <td>0.069432</td>\n",
       "      <td>1.0</td>\n",
       "      <td>1.0</td>\n",
       "      <td>1.0</td>\n",
       "      <td>1.0</td>\n",
       "      <td>output.json</td>\n",
       "      <td>3.812682</td>\n",
       "    </tr>\n",
       "    <tr>\n",
       "      <th>253</th>\n",
       "      <td>510</td>\n",
       "      <td>0.930568</td>\n",
       "      <td>0.930568</td>\n",
       "      <td>0.930568</td>\n",
       "      <td>0.330009</td>\n",
       "      <td>1.0</td>\n",
       "      <td>1.0</td>\n",
       "      <td>1.0</td>\n",
       "      <td>1.0</td>\n",
       "      <td>output.json</td>\n",
       "      <td>2.921915</td>\n",
       "    </tr>\n",
       "    <tr>\n",
       "      <th>254</th>\n",
       "      <td>511</td>\n",
       "      <td>0.930568</td>\n",
       "      <td>0.930568</td>\n",
       "      <td>0.930568</td>\n",
       "      <td>0.669991</td>\n",
       "      <td>1.0</td>\n",
       "      <td>1.0</td>\n",
       "      <td>1.0</td>\n",
       "      <td>1.0</td>\n",
       "      <td>output.json</td>\n",
       "      <td>2.090885</td>\n",
       "    </tr>\n",
       "    <tr>\n",
       "      <th>255</th>\n",
       "      <td>512</td>\n",
       "      <td>0.930568</td>\n",
       "      <td>0.930568</td>\n",
       "      <td>0.930568</td>\n",
       "      <td>0.930568</td>\n",
       "      <td>1.0</td>\n",
       "      <td>1.0</td>\n",
       "      <td>1.0</td>\n",
       "      <td>1.0</td>\n",
       "      <td>output.json</td>\n",
       "      <td>3.539460</td>\n",
       "    </tr>\n",
       "  </tbody>\n",
       "</table>\n",
       "<p>256 rows × 11 columns</p>\n",
       "</div>"
      ],
      "text/plain": [
       "    run_id    theta1    theta2    theta3    theta4   L1   L2   L3   L4  \\\n",
       "         0         0         0         0         0    0    0    0    0   \n",
       "0      257  0.069432  0.069432  0.069432  0.069432  1.0  1.0  1.0  1.0   \n",
       "1      258  0.069432  0.069432  0.069432  0.330009  1.0  1.0  1.0  1.0   \n",
       "2      259  0.069432  0.069432  0.069432  0.669991  1.0  1.0  1.0  1.0   \n",
       "3      260  0.069432  0.069432  0.069432  0.930568  1.0  1.0  1.0  1.0   \n",
       "4      261  0.069432  0.069432  0.330009  0.069432  1.0  1.0  1.0  1.0   \n",
       "..     ...       ...       ...       ...       ...  ...  ...  ...  ...   \n",
       "251    508  0.930568  0.930568  0.669991  0.930568  1.0  1.0  1.0  1.0   \n",
       "252    509  0.930568  0.930568  0.930568  0.069432  1.0  1.0  1.0  1.0   \n",
       "253    510  0.930568  0.930568  0.930568  0.330009  1.0  1.0  1.0  1.0   \n",
       "254    511  0.930568  0.930568  0.930568  0.669991  1.0  1.0  1.0  1.0   \n",
       "255    512  0.930568  0.930568  0.930568  0.930568  1.0  1.0  1.0  1.0   \n",
       "\n",
       "         outfile  distance  \n",
       "               0         0  \n",
       "0    output.json  3.539460  \n",
       "1    output.json  2.090885  \n",
       "2    output.json  2.921915  \n",
       "3    output.json  3.812682  \n",
       "4    output.json  1.213296  \n",
       "..           ...       ...  \n",
       "251  output.json  1.213296  \n",
       "252  output.json  3.812682  \n",
       "253  output.json  2.921915  \n",
       "254  output.json  2.090885  \n",
       "255  output.json  3.539460  \n",
       "\n",
       "[256 rows x 11 columns]"
      ]
     },
     "execution_count": 32,
     "metadata": {},
     "output_type": "execute_result"
    }
   ],
   "source": [
    "campaign.collate()"
   ]
  },
  {
   "cell_type": "code",
   "execution_count": null,
   "id": "lovely-permission",
   "metadata": {},
   "outputs": [],
   "source": []
  }
 ],
 "metadata": {
  "kernelspec": {
   "display_name": "Python 3",
   "language": "python",
   "name": "python3"
  },
  "language_info": {
   "codemirror_mode": {
    "name": "ipython",
    "version": 3
   },
   "file_extension": ".py",
   "mimetype": "text/x-python",
   "name": "python",
   "nbconvert_exporter": "python",
   "pygments_lexer": "ipython3",
   "version": "3.8.6"
  }
 },
 "nbformat": 4,
 "nbformat_minor": 5
}
