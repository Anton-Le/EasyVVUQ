{
 "cells": [
  {
   "cell_type": "markdown",
   "id": "composite-logistics",
   "metadata": {},
   "source": [
    "# EasyVVUQ - Basic Concepts"
   ]
  },
  {
   "cell_type": "markdown",
   "id": "subject-colon",
   "metadata": {},
   "source": [
    "This tutorial shows a simple EasyVVUQ workflow in action. The example used here is a simulation of a robotic arm. Description of it can be found [here](https://www.sfu.ca/~ssurjano/robot.html)."
   ]
  },
  {
   "cell_type": "markdown",
   "id": "chinese-locator",
   "metadata": {},
   "source": [
    "The usage of the application is:\n",
    "\n",
    "```robot <input_file>```\n",
    "\n",
    "It outputs a single file called output.json, which will look like ```{'distance': 30}``` or similar where ```distance``` is the distance between the plane to which the robot arm is attached and the end of the arm.\n",
    "\n",
    "The robot.template is a template input file, in JSON format\n",
    "\n",
    "```{\"outfile\": \"$out_file\", \"theta1\": $theta1, \"theta2\" $theta2, \"theta3\": $theta3, \"theta4\": $theta4, \"L1\": $L1, \"L2\": $L2, \"L3\": $L3, \"L4\": $L4}```\n",
    "\n",
    "The thetas are angles (in radians) between the four robotic arm segments and L's are their lengths (in arbitrary units). The values for each key are tags (signified by the $ delimiter) which will be substituted by EasyVVUQ with values to sample the parameter space. In the following tutorial, the template will be used to generate files called input.json that will be the input to each run of ```robot```."
   ]
  },
  {
   "cell_type": "markdown",
   "id": "varied-deputy",
   "metadata": {},
   "source": [
    "So, for example:"
   ]
  },
  {
   "cell_type": "code",
   "execution_count": null,
   "id": "excess-collectible",
   "metadata": {},
   "outputs": [],
   "source": [
    "!echo \"{\\\"outfile\\\": \\\"output.json\\\", \\\"theta1\\\": 0.5, \\\"theta2\\\": 0.5, \\\"theta3\\\": 0.25, \\\"theta4\\\": 0.75, \\\"L1\\\": 1, \\\"L2\\\": 1, \\\"L3\\\": 1, \\\"L4\\\": 1}\" > input.json"
   ]
  },
  {
   "cell_type": "code",
   "execution_count": null,
   "id": "large-soundtrack",
   "metadata": {},
   "outputs": [],
   "source": [
    "!./robot input.json"
   ]
  },
  {
   "cell_type": "code",
   "execution_count": null,
   "id": "cooked-driver",
   "metadata": {},
   "outputs": [],
   "source": [
    "!cat output.json"
   ]
  },
  {
   "cell_type": "markdown",
   "id": "computational-ecuador",
   "metadata": {},
   "source": [
    "# Campaign"
   ]
  },
  {
   "cell_type": "code",
   "execution_count": 1,
   "id": "accredited-stranger",
   "metadata": {},
   "outputs": [],
   "source": [
    "import easyvvuq as uq\n",
    "import chaospy as cp"
   ]
  },
  {
   "cell_type": "code",
   "execution_count": 2,
   "id": "emerging-victory",
   "metadata": {},
   "outputs": [],
   "source": [
    "campaign = uq.Campaign('robot')"
   ]
  },
  {
   "cell_type": "code",
   "execution_count": 3,
   "id": "quiet-barrel",
   "metadata": {},
   "outputs": [],
   "source": [
    "params = {\n",
    "    \"theta1\": {\"type\": \"float\", \"min\": 0.0, \"max\": 1.0, \"default\": 0.5}, \n",
    "    \"theta2\": {\"type\": \"float\", \"min\": 0.0, \"max\": 1.0, \"default\": 0.5}, \n",
    "    \"theta3\": {\"type\": \"float\", \"min\": 0.0, \"max\": 1.0, \"default\": 0.5}, \n",
    "    \"theta4\": {\"type\": \"float\", \"min\": 0.0, \"max\": 1.0, \"default\": 0.5},\n",
    "    \"L1\": {\"type\": \"float\", \"min\": 0.0, \"default\": 1.0},\n",
    "    \"L2\": {\"type\": \"float\", \"min\": 0.0, \"default\": 1.0},\n",
    "    \"L3\": {\"type\": \"float\", \"min\": 0.0, \"default\": 1.0},\n",
    "    \"L4\": {\"type\": \"float\", \"min\": 0.0, \"default\": 1.0},\n",
    "    \"outfile\": {\"type\": \"string\", \"default\": \"output.json\"}\n",
    "}"
   ]
  },
  {
   "cell_type": "code",
   "execution_count": 4,
   "id": "particular-teens",
   "metadata": {},
   "outputs": [],
   "source": [
    "encoder = uq.encoders.GenericEncoder(template_fname='robot.template', delimiter='$', target_filename='input.json')\n",
    "decoder = uq.decoders.JSONDecoder(target_filename='output.json', output_columns=['distance'])"
   ]
  },
  {
   "cell_type": "code",
   "execution_count": 5,
   "id": "acoustic-innocent",
   "metadata": {},
   "outputs": [],
   "source": [
    "campaign.add_app(name='robot', params=params, encoder=encoder, decoder=decoder)"
   ]
  },
  {
   "cell_type": "code",
   "execution_count": 6,
   "id": "stuffed-premiere",
   "metadata": {},
   "outputs": [],
   "source": [
    "vary = {\n",
    "    \"theta1\": cp.Uniform(0, 1),\n",
    "    \"theta2\": cp.Uniform(0, 1),\n",
    "    \"theta3\": cp.Uniform(0, 1),\n",
    "    \"theta4\": cp.Uniform(0, 1)\n",
    "}"
   ]
  },
  {
   "cell_type": "code",
   "execution_count": 7,
   "id": "prescribed-montgomery",
   "metadata": {},
   "outputs": [],
   "source": [
    "campaign.set_sampler(uq.sampling.PCESampler(vary=vary, polynomial_order=3))"
   ]
  },
  {
   "cell_type": "code",
   "execution_count": 8,
   "id": "geological-syndicate",
   "metadata": {},
   "outputs": [],
   "source": [
    "execution = campaign.sample_and_apply(0, action=uq.actions.ExecuteLocalV2(\"robot input.json\"), batch_size=8)"
   ]
  },
  {
   "cell_type": "code",
   "execution_count": 9,
   "id": "inside-blade",
   "metadata": {},
   "outputs": [
    {
     "data": {
      "text/plain": [
       "[<Future at 0x1275514c0 state=running>,\n",
       " <Future at 0x11126e520 state=running>,\n",
       " <Future at 0x12763fbb0 state=running>,\n",
       " <Future at 0x12763f970 state=running>,\n",
       " <Future at 0x12761b910 state=running>,\n",
       " <Future at 0x12761bee0 state=running>,\n",
       " <Future at 0x12761f430 state=running>,\n",
       " <Future at 0x12761f9d0 state=running>,\n",
       " <Future at 0x12761feb0 state=pending>,\n",
       " <Future at 0x1275fb430 state=pending>,\n",
       " <Future at 0x1275fb520 state=pending>,\n",
       " <Future at 0x1275fb5e0 state=pending>,\n",
       " <Future at 0x1275fb7f0 state=pending>,\n",
       " <Future at 0x1275fb8b0 state=pending>,\n",
       " <Future at 0x1275fbac0 state=pending>,\n",
       " <Future at 0x1275fbb80 state=pending>,\n",
       " <Future at 0x1275fbd90 state=pending>,\n",
       " <Future at 0x1275fbe50 state=pending>,\n",
       " <Future at 0x1275fb070 state=pending>,\n",
       " <Future at 0x1275fb100 state=pending>,\n",
       " <Future at 0x1275fb250 state=pending>,\n",
       " <Future at 0x1275fb2e0 state=pending>,\n",
       " <Future at 0x1276260d0 state=pending>,\n",
       " <Future at 0x1276261c0 state=pending>,\n",
       " <Future at 0x127626f40 state=pending>,\n",
       " <Future at 0x12758b040 state=pending>,\n",
       " <Future at 0x12758bd60 state=pending>,\n",
       " <Future at 0x12758bdf0 state=pending>,\n",
       " <Future at 0x12758b5b0 state=pending>,\n",
       " <Future at 0x12758b2b0 state=pending>,\n",
       " <Future at 0x12758ba90 state=pending>,\n",
       " <Future at 0x12758b640 state=pending>,\n",
       " <Future at 0x127633fd0 state=pending>,\n",
       " <Future at 0x127610910 state=pending>,\n",
       " <Future at 0x1276101c0 state=pending>,\n",
       " <Future at 0x127610280 state=pending>,\n",
       " <Future at 0x127610490 state=pending>,\n",
       " <Future at 0x127610550 state=pending>,\n",
       " <Future at 0x127610760 state=pending>,\n",
       " <Future at 0x127610820 state=pending>,\n",
       " <Future at 0x127610eb0 state=pending>,\n",
       " <Future at 0x127610d00 state=pending>,\n",
       " <Future at 0x127610d90 state=pending>,\n",
       " <Future at 0x127610ac0 state=pending>,\n",
       " <Future at 0x127661070 state=pending>,\n",
       " <Future at 0x127661160 state=pending>,\n",
       " <Future at 0x127661250 state=pending>,\n",
       " <Future at 0x127661310 state=pending>,\n",
       " <Future at 0x127661460 state=pending>,\n",
       " <Future at 0x127661550 state=pending>,\n",
       " <Future at 0x1276616d0 state=pending>,\n",
       " <Future at 0x127661760 state=pending>,\n",
       " <Future at 0x1276618b0 state=pending>,\n",
       " <Future at 0x127661940 state=pending>,\n",
       " <Future at 0x127661a90 state=pending>,\n",
       " <Future at 0x127661b20 state=pending>,\n",
       " <Future at 0x127661c70 state=pending>,\n",
       " <Future at 0x127661d00 state=pending>,\n",
       " <Future at 0x127661e50 state=pending>,\n",
       " <Future at 0x127661ee0 state=pending>,\n",
       " <Future at 0x12763c4f0 state=pending>,\n",
       " <Future at 0x12763c0a0 state=pending>,\n",
       " <Future at 0x12763c1f0 state=pending>,\n",
       " <Future at 0x12763c280 state=pending>,\n",
       " <Future at 0x12763c3d0 state=pending>,\n",
       " <Future at 0x12763c460 state=pending>,\n",
       " <Future at 0x1275fd1c0 state=pending>,\n",
       " <Future at 0x1275fd250 state=pending>,\n",
       " <Future at 0x1275fd4c0 state=pending>,\n",
       " <Future at 0x1275fd640 state=pending>,\n",
       " <Future at 0x1275fd7f0 state=pending>,\n",
       " <Future at 0x1275fd940 state=pending>,\n",
       " <Future at 0x1275fdac0 state=pending>,\n",
       " <Future at 0x1275fdc10 state=pending>,\n",
       " <Future at 0x1275fdd90 state=pending>,\n",
       " <Future at 0x1275fdee0 state=pending>,\n",
       " <Future at 0x1276020a0 state=pending>,\n",
       " <Future at 0x1276021f0 state=pending>,\n",
       " <Future at 0x127602370 state=pending>,\n",
       " <Future at 0x1276024c0 state=pending>,\n",
       " <Future at 0x127602640 state=pending>,\n",
       " <Future at 0x127602790 state=pending>,\n",
       " <Future at 0x127602910 state=pending>,\n",
       " <Future at 0x127602a60 state=pending>,\n",
       " <Future at 0x127602be0 state=pending>,\n",
       " <Future at 0x127602d30 state=pending>,\n",
       " <Future at 0x127602eb0 state=pending>,\n",
       " <Future at 0x127606040 state=pending>,\n",
       " <Future at 0x1276061c0 state=pending>,\n",
       " <Future at 0x127606310 state=pending>,\n",
       " <Future at 0x127606490 state=pending>,\n",
       " <Future at 0x1276065e0 state=pending>,\n",
       " <Future at 0x127606760 state=pending>,\n",
       " <Future at 0x1276068b0 state=pending>,\n",
       " <Future at 0x127606a30 state=pending>,\n",
       " <Future at 0x127606b80 state=pending>,\n",
       " <Future at 0x127606d00 state=pending>,\n",
       " <Future at 0x127606e50 state=pending>,\n",
       " <Future at 0x127606fd0 state=pending>,\n",
       " <Future at 0x12760c160 state=pending>,\n",
       " <Future at 0x12760c2e0 state=pending>,\n",
       " <Future at 0x12760c430 state=pending>,\n",
       " <Future at 0x12760c5b0 state=pending>,\n",
       " <Future at 0x12760c700 state=pending>,\n",
       " <Future at 0x12760c880 state=pending>,\n",
       " <Future at 0x12760c9d0 state=pending>,\n",
       " <Future at 0x12760cb50 state=pending>,\n",
       " <Future at 0x12760cca0 state=pending>,\n",
       " <Future at 0x12760ce20 state=pending>,\n",
       " <Future at 0x12760cf70 state=pending>,\n",
       " <Future at 0x127555310 state=pending>,\n",
       " <Future at 0x127555ac0 state=pending>,\n",
       " <Future at 0x127615940 state=pending>,\n",
       " <Future at 0x127615a30 state=pending>,\n",
       " <Future at 0x127615c10 state=pending>,\n",
       " <Future at 0x127615d00 state=pending>,\n",
       " <Future at 0x127615ee0 state=pending>,\n",
       " <Future at 0x127615790 state=pending>,\n",
       " <Future at 0x127615160 state=pending>,\n",
       " <Future at 0x127615310 state=pending>,\n",
       " <Future at 0x127615490 state=pending>,\n",
       " <Future at 0x1276155e0 state=pending>,\n",
       " <Future at 0x127615130 state=pending>,\n",
       " <Future at 0x11127bb50 state=pending>,\n",
       " <Future at 0x11127b910 state=pending>,\n",
       " <Future at 0x12761ffd0 state=pending>,\n",
       " <Future at 0x12764e700 state=pending>,\n",
       " <Future at 0x12764e7f0 state=pending>,\n",
       " <Future at 0x12764e8e0 state=pending>,\n",
       " <Future at 0x12764e9d0 state=pending>,\n",
       " <Future at 0x12764eac0 state=pending>,\n",
       " <Future at 0x12764ebb0 state=pending>,\n",
       " <Future at 0x12764eca0 state=pending>,\n",
       " <Future at 0x12764ed90 state=pending>,\n",
       " <Future at 0x12764ee80 state=pending>,\n",
       " <Future at 0x12764ef70 state=pending>,\n",
       " <Future at 0x1276540a0 state=pending>,\n",
       " <Future at 0x127654190 state=pending>,\n",
       " <Future at 0x127654280 state=pending>,\n",
       " <Future at 0x127654370 state=pending>,\n",
       " <Future at 0x127654460 state=pending>,\n",
       " <Future at 0x127654550 state=pending>,\n",
       " <Future at 0x127654640 state=pending>,\n",
       " <Future at 0x127654730 state=pending>,\n",
       " <Future at 0x127654820 state=pending>,\n",
       " <Future at 0x127654910 state=pending>,\n",
       " <Future at 0x127654a00 state=pending>,\n",
       " <Future at 0x127654af0 state=pending>,\n",
       " <Future at 0x127654be0 state=pending>,\n",
       " <Future at 0x127654cd0 state=pending>,\n",
       " <Future at 0x127654dc0 state=pending>,\n",
       " <Future at 0x127654eb0 state=pending>,\n",
       " <Future at 0x127654fa0 state=pending>,\n",
       " <Future at 0x1276580d0 state=pending>,\n",
       " <Future at 0x1276581c0 state=pending>,\n",
       " <Future at 0x1276582b0 state=pending>,\n",
       " <Future at 0x1276583a0 state=pending>,\n",
       " <Future at 0x127658490 state=pending>,\n",
       " <Future at 0x127658580 state=pending>,\n",
       " <Future at 0x127658670 state=pending>,\n",
       " <Future at 0x127658760 state=pending>,\n",
       " <Future at 0x127658850 state=pending>,\n",
       " <Future at 0x127658940 state=pending>,\n",
       " <Future at 0x127658a30 state=pending>,\n",
       " <Future at 0x127658b20 state=pending>,\n",
       " <Future at 0x127658c10 state=pending>,\n",
       " <Future at 0x127658d00 state=pending>,\n",
       " <Future at 0x127658df0 state=pending>,\n",
       " <Future at 0x127658ee0 state=pending>,\n",
       " <Future at 0x127658fd0 state=pending>,\n",
       " <Future at 0x12765e100 state=pending>,\n",
       " <Future at 0x12765e1f0 state=pending>,\n",
       " <Future at 0x12765e2e0 state=pending>,\n",
       " <Future at 0x12765e3d0 state=pending>,\n",
       " <Future at 0x12765e4c0 state=pending>,\n",
       " <Future at 0x12765e5b0 state=pending>,\n",
       " <Future at 0x12765e6a0 state=pending>,\n",
       " <Future at 0x12765e790 state=pending>,\n",
       " <Future at 0x12765e880 state=pending>,\n",
       " <Future at 0x12765e970 state=pending>,\n",
       " <Future at 0x12765ea60 state=pending>,\n",
       " <Future at 0x12765eb50 state=pending>,\n",
       " <Future at 0x12765ec40 state=pending>,\n",
       " <Future at 0x12765ed30 state=pending>,\n",
       " <Future at 0x12765ee20 state=pending>,\n",
       " <Future at 0x12765ef10 state=pending>,\n",
       " <Future at 0x127665040 state=pending>,\n",
       " <Future at 0x127665130 state=pending>,\n",
       " <Future at 0x127665220 state=pending>,\n",
       " <Future at 0x127665310 state=pending>,\n",
       " <Future at 0x127665400 state=pending>,\n",
       " <Future at 0x1276654f0 state=pending>,\n",
       " <Future at 0x1276655e0 state=pending>,\n",
       " <Future at 0x1276656d0 state=pending>,\n",
       " <Future at 0x1276657c0 state=pending>,\n",
       " <Future at 0x1276658b0 state=pending>,\n",
       " <Future at 0x1276659a0 state=pending>,\n",
       " <Future at 0x127665a90 state=pending>,\n",
       " <Future at 0x127665b80 state=pending>,\n",
       " <Future at 0x127665c70 state=pending>,\n",
       " <Future at 0x127665d60 state=pending>,\n",
       " <Future at 0x127665e50 state=pending>,\n",
       " <Future at 0x127665f40 state=pending>,\n",
       " <Future at 0x12766e070 state=pending>,\n",
       " <Future at 0x12766e160 state=pending>,\n",
       " <Future at 0x12766e250 state=pending>,\n",
       " <Future at 0x12766e340 state=pending>,\n",
       " <Future at 0x12766e430 state=pending>,\n",
       " <Future at 0x12766e520 state=pending>,\n",
       " <Future at 0x12766e610 state=pending>,\n",
       " <Future at 0x12766e700 state=pending>,\n",
       " <Future at 0x12766e7f0 state=pending>,\n",
       " <Future at 0x12766e8e0 state=pending>,\n",
       " <Future at 0x12766e9d0 state=pending>,\n",
       " <Future at 0x12766eac0 state=pending>,\n",
       " <Future at 0x12766ebb0 state=pending>,\n",
       " <Future at 0x12766eca0 state=pending>,\n",
       " <Future at 0x12766ed90 state=pending>,\n",
       " <Future at 0x12766ee80 state=pending>,\n",
       " <Future at 0x12766ef70 state=pending>,\n",
       " <Future at 0x12767e0a0 state=pending>,\n",
       " <Future at 0x12767e190 state=pending>,\n",
       " <Future at 0x12767e280 state=pending>,\n",
       " <Future at 0x12767e370 state=pending>,\n",
       " <Future at 0x12767e460 state=pending>,\n",
       " <Future at 0x12767e550 state=pending>,\n",
       " <Future at 0x12767e640 state=pending>,\n",
       " <Future at 0x12767e730 state=pending>,\n",
       " <Future at 0x12767e820 state=pending>,\n",
       " <Future at 0x12767e910 state=pending>,\n",
       " <Future at 0x12767ea00 state=pending>,\n",
       " <Future at 0x12767eaf0 state=pending>,\n",
       " <Future at 0x12767ebe0 state=pending>,\n",
       " <Future at 0x12767ecd0 state=pending>,\n",
       " <Future at 0x12767edc0 state=pending>,\n",
       " <Future at 0x12767eeb0 state=pending>,\n",
       " <Future at 0x12767efa0 state=pending>,\n",
       " <Future at 0x1276850d0 state=pending>,\n",
       " <Future at 0x1276851c0 state=pending>,\n",
       " <Future at 0x1276852b0 state=pending>,\n",
       " <Future at 0x1276853a0 state=pending>,\n",
       " <Future at 0x127685490 state=pending>,\n",
       " <Future at 0x127685580 state=pending>,\n",
       " <Future at 0x127685670 state=pending>,\n",
       " <Future at 0x127685760 state=pending>,\n",
       " <Future at 0x127685850 state=pending>,\n",
       " <Future at 0x127685940 state=pending>,\n",
       " <Future at 0x127685a30 state=pending>,\n",
       " <Future at 0x127685b20 state=pending>,\n",
       " <Future at 0x127685c10 state=pending>,\n",
       " <Future at 0x127685d00 state=pending>,\n",
       " <Future at 0x127685df0 state=pending>,\n",
       " <Future at 0x127685ee0 state=pending>,\n",
       " <Future at 0x127685fd0 state=pending>,\n",
       " <Future at 0x12768c100 state=pending>,\n",
       " <Future at 0x12768c1f0 state=pending>]"
      ]
     },
     "execution_count": 9,
     "metadata": {},
     "output_type": "execute_result"
    }
   ],
   "source": [
    "execution.start()"
   ]
  },
  {
   "cell_type": "code",
   "execution_count": 35,
   "id": "unknown-huntington",
   "metadata": {},
   "outputs": [
    {
     "data": {
      "text/plain": [
       "{'ready': 60, 'active': 8, 'finished': 188, 'failed': 0}"
      ]
     },
     "execution_count": 35,
     "metadata": {},
     "output_type": "execute_result"
    }
   ],
   "source": [
    "execution.progress()"
   ]
  },
  {
   "cell_type": "code",
   "execution_count": 36,
   "id": "latter-linux",
   "metadata": {},
   "outputs": [],
   "source": [
    "results = campaign.analyse(qoi_cols=['distance'])"
   ]
  },
  {
   "cell_type": "code",
   "execution_count": 38,
   "id": "useful-daisy",
   "metadata": {},
   "outputs": [
    {
     "data": {
      "text/plain": [
       "{'distance': {'theta1': array([1.31166456e-14]),\n",
       "  'theta2': array([0.35605895]),\n",
       "  'theta3': array([0.44497095]),\n",
       "  'theta4': array([0.35605895])}}"
      ]
     },
     "execution_count": 38,
     "metadata": {},
     "output_type": "execute_result"
    }
   ],
   "source": [
    "results.sobols_total()"
   ]
  },
  {
   "cell_type": "code",
   "execution_count": null,
   "id": "polar-lecture",
   "metadata": {},
   "outputs": [],
   "source": []
  }
 ],
 "metadata": {
  "kernelspec": {
   "display_name": "Python 3",
   "language": "python",
   "name": "python3"
  },
  "language_info": {
   "codemirror_mode": {
    "name": "ipython",
    "version": 3
   },
   "file_extension": ".py",
   "mimetype": "text/x-python",
   "name": "python",
   "nbconvert_exporter": "python",
   "pygments_lexer": "ipython3",
   "version": "3.8.6"
  }
 },
 "nbformat": 4,
 "nbformat_minor": 5
}
