{
 "cells": [
  {
   "cell_type": "markdown",
   "id": "equipped-coverage",
   "metadata": {},
   "source": [
    "# EasyVVUQ - Basic Concepts"
   ]
  },
  {
   "cell_type": "markdown",
   "id": "clear-irish",
   "metadata": {},
   "source": [
    "This tutorial shows a simple EasyVVUQ workflow in action. The example used here is a simulation of a vertical deflection of a tube. Description of it can be found [here](https://openturns.github.io/openturns/latest/usecases/use_case_deflection_tube.html). This model was chosen since it is intuitively easy to understand even without any background in the relative field. It is also easy to interpret the results. We will use EasyVVUQ to determine the influence each of the input parameters has on the vertical deflection at point ```a```."
   ]
  },
  {
   "cell_type": "markdown",
   "id": "basic-oxford",
   "metadata": {},
   "source": [
    "The usage of the application is:\n",
    "\n",
    "```beam <input_file>```\n",
    "\n",
    "It outputs a single file called output.json, which will look like ```{'g1': x, 'g2': y, 'g3': y}``` where ```g1``` is the vertical displacement at point ```a``` and ```g2```, ```g3``` are displaced angles of the tube at the left and right ends respectively.\n",
    "\n",
    "The beam.template is a template input file, in JSON format\n",
    "\n",
    "```{\"outfile\": \"$outfile\", \"F\": $F, \"L\": $L, \"a\": $a, \"D\": $D, \"d\": $d, \"E\": $E}```\n",
    "\n",
    "The values for each key are tags (signified by the $ delimiter) which will be substituted by EasyVVUQ with values to sample the parameter space. In the following tutorial, the template will be used to generate files called input.json that will be the input to each run of ```beam```."
   ]
  },
  {
   "cell_type": "markdown",
   "id": "colored-upset",
   "metadata": {},
   "source": [
    "So, for example:"
   ]
  },
  {
   "cell_type": "code",
   "execution_count": null,
   "id": "capable-drive",
   "metadata": {},
   "outputs": [],
   "source": [
    "!echo \"{\\\"outfile\\\": \\\"output.json\\\", \\\"F\\\": 1.0, \\\"L\\\": 1.5, \\\"a\\\": 1.0, \\\"D\\\": 0.8, \\\"d\\\": 0.1, \\\"E\\\": 200000}\" > input.json"
   ]
  },
  {
   "cell_type": "code",
   "execution_count": null,
   "id": "realistic-schema",
   "metadata": {},
   "outputs": [],
   "source": [
    "!./beam input.json"
   ]
  },
  {
   "cell_type": "code",
   "execution_count": null,
   "id": "annoying-johnston",
   "metadata": {},
   "outputs": [],
   "source": [
    "!cat output.json"
   ]
  },
  {
   "cell_type": "markdown",
   "id": "dominican-african",
   "metadata": {},
   "source": [
    "# Campaign"
   ]
  },
  {
   "cell_type": "code",
   "execution_count": 1,
   "id": "promising-designation",
   "metadata": {},
   "outputs": [],
   "source": [
    "import easyvvuq as uq\n",
    "import chaospy as cp"
   ]
  },
  {
   "cell_type": "code",
   "execution_count": 2,
   "id": "pressing-credit",
   "metadata": {},
   "outputs": [],
   "source": [
    "params = {\n",
    "    \"F\": {\"type\": \"float\", \"default\": 1.0}, \n",
    "    \"L\": {\"type\": \"float\", \"default\": 1.5}, \n",
    "    \"a\": {\"type\": \"float\", \"min\": 0.7, \"max\": 1.2, \"default\": 1.0}, \n",
    "    \"D\": {\"type\": \"float\", \"min\": 0.75, \"max\": 0.85, \"default\": 0.8},\n",
    "    \"d\": {\"type\": \"float\", \"min\": 0.09, \"max\": 0.11, \"default\": 0.1},\n",
    "    \"E\": {\"type\": \"float\", \"default\": 200000},\n",
    "    \"outfile\": {\"type\": \"string\", \"default\": \"output.json\"}\n",
    "}"
   ]
  },
  {
   "cell_type": "code",
   "execution_count": 3,
   "id": "exclusive-freeze",
   "metadata": {},
   "outputs": [],
   "source": [
    "encoder = uq.encoders.GenericEncoder(template_fname='beam.template', delimiter='$', target_filename='input.json')\n",
    "decoder = uq.decoders.JSONDecoder(target_filename='output.json', output_columns=['g1'])"
   ]
  },
  {
   "cell_type": "code",
   "execution_count": 4,
   "id": "liked-hollywood",
   "metadata": {},
   "outputs": [],
   "source": [
    "campaign = uq.Campaign(name='beam', params=params, encoder=encoder, decoder=decoder)"
   ]
  },
  {
   "cell_type": "code",
   "execution_count": 5,
   "id": "accepting-ethnic",
   "metadata": {},
   "outputs": [],
   "source": [
    "vary = {\n",
    "    \"F\": cp.Normal(1, 0.1),\n",
    "    \"L\": cp.Normal(1.5, 0.01),\n",
    "    \"a\": cp.Uniform(0.7, 1.2),\n",
    "    \"D\": cp.Triangle(0.75, 0.8, 0.85),\n",
    "#    \"d\": cp.Triangle(0.09, 0.1, 0.11),\n",
    "#    \"E\": cp.Normal(200000, 2000)\n",
    "}"
   ]
  },
  {
   "cell_type": "code",
   "execution_count": 6,
   "id": "portuguese-showcase",
   "metadata": {},
   "outputs": [
    {
     "name": "stdout",
     "output_type": "stream",
     "text": [
      "Received integer polynomial order, assuming isotropic grid\n"
     ]
    }
   ],
   "source": [
    "campaign.set_sampler(uq.sampling.SCSampler(vary=vary, polynomial_order=3))"
   ]
  },
  {
   "cell_type": "code",
   "execution_count": 7,
   "id": "genetic-coating",
   "metadata": {},
   "outputs": [],
   "source": [
    "execution = campaign.sample_and_apply(action=uq.actions.ExecuteLocalV2(\"beam input.json\"), batch_size=8)"
   ]
  },
  {
   "cell_type": "code",
   "execution_count": 8,
   "id": "brutal-chemical",
   "metadata": {},
   "outputs": [],
   "source": [
    "execution.start();"
   ]
  },
  {
   "cell_type": "markdown",
   "id": "strange-mercury",
   "metadata": {},
   "source": [
    "The execution will take a while since we need to generate several thousand samples. We asked it to evaluate 8 samples in parallel. You can track progress by using the ```progress``` method. You can also check progress automatically and resume execution after it is done if you want to run this inside a script rather than interactively."
   ]
  },
  {
   "cell_type": "code",
   "execution_count": 13,
   "id": "grave-nirvana",
   "metadata": {},
   "outputs": [
    {
     "data": {
      "text/plain": [
       "{'ready': 125, 'active': 8, 'finished': 123, 'failed': 0}"
      ]
     },
     "execution_count": 13,
     "metadata": {},
     "output_type": "execute_result"
    }
   ],
   "source": [
    "execution.progress()"
   ]
  },
  {
   "cell_type": "code",
   "execution_count": null,
   "id": "mechanical-specific",
   "metadata": {},
   "outputs": [],
   "source": [
    "results = campaign.analyse(qoi_cols=['g1'])"
   ]
  },
  {
   "cell_type": "code",
   "execution_count": null,
   "id": "southwest-pacific",
   "metadata": {},
   "outputs": [],
   "source": [
    "import matplotlib.pyplot as plt\n",
    "results.plot_sobols_treemap('g1', figsize=(10, 10))\n",
    "plt.axis('off')"
   ]
  },
  {
   "cell_type": "markdown",
   "id": "bridal-ivory",
   "metadata": {},
   "source": [
    "Alternatively you can get the Sobol index values using the method calls below."
   ]
  },
  {
   "cell_type": "code",
   "execution_count": null,
   "id": "ancient-midnight",
   "metadata": {},
   "outputs": [],
   "source": [
    "results.sobols_first()"
   ]
  },
  {
   "cell_type": "code",
   "execution_count": null,
   "id": "lonely-newton",
   "metadata": {},
   "outputs": [],
   "source": [
    "results.sobols_second()"
   ]
  },
  {
   "cell_type": "code",
   "execution_count": null,
   "id": "hybrid-cooperation",
   "metadata": {},
   "outputs": [],
   "source": [
    "results.sobols_total()"
   ]
  },
  {
   "cell_type": "markdown",
   "id": "neural-andorra",
   "metadata": {},
   "source": [
    "Alternatively you can try using Stochastic Collocation or Monte Carlo method for variance based sensitivity analysis. The procedure is exactly the same. For details please see the respective tutorial notebooks. EasyVVUQ also provides Markov-Chain Monte Carlo methods."
   ]
  }
 ],
 "metadata": {
  "kernelspec": {
   "display_name": "Python 3",
   "language": "python",
   "name": "python3"
  },
  "language_info": {
   "codemirror_mode": {
    "name": "ipython",
    "version": 3
   },
   "file_extension": ".py",
   "mimetype": "text/x-python",
   "name": "python",
   "nbconvert_exporter": "python",
   "pygments_lexer": "ipython3",
   "version": "3.8.6"
  }
 },
 "nbformat": 4,
 "nbformat_minor": 5
}
