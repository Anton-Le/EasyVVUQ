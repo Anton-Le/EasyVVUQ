{
 "cells": [
  {
   "cell_type": "markdown",
   "metadata": {
    "colab_type": "text",
    "id": "NzWFca3cB9oe"
   },
   "source": [
    "![alt text](https://easyvvuq.readthedocs.io/en/latest/_static/circle-logo.svg)\n",
    "\n",
    "Vytautas Jancauskas 2020\n",
    "\n",
    "# **EasyVVUQ Tutorial**\n",
    "\n",
    "# Introduction\n",
    "\n",
    "In this tutorial we will show you how you can use [EasyVVUQ](https://github.com/UCL-CCS/EasyVVUQ) to investigate the properties of a simple epidemiological model. The model is very simplistic and is not intended to realisticly portray a real epidemic such as COVID-19. However it is also fun enough to experiment with and we can use it as an example to show how you can use EasyVVUQ to answer questions about your scientific models. EasyVVUQ is successfully used by researchers in various different fields, such as plasma physics, weather and air pollution modelling and materials science."
   ]
  },
  {
   "cell_type": "markdown",
   "metadata": {
    "colab_type": "text",
    "id": "ugDD5kSbAtw_"
   },
   "source": [
    "# Installing EasyVVUQ\n",
    "\n",
    "Before we do anything else we need to install EasyVVUQ for use in this notebook. Please skip this if you already have EasyVVUQ installed in your system. This is meant for situations where this notebook is hosted externally to your local computer. We also want to clone the git repository because it contains some files used in this tutorial. Please note that you might need to restart the runtime after the installation is complete. If the following code examples don't work please try that first. I have added a command that kills the runtime (which causes it to be restarted). But I'm not sure if it will always work."
   ]
  },
  {
   "cell_type": "code",
   "execution_count": null,
   "metadata": {},
   "outputs": [],
   "source": [
    "!pip install git+https://github.com/UCL-CCS/EasyVVUQ"
   ]
  },
  {
   "cell_type": "code",
   "execution_count": null,
   "metadata": {
    "colab": {},
    "colab_type": "code",
    "id": "We-D7yY3H1ds"
   },
   "outputs": [],
   "source": [
    "!git clone https://github.com/UCL-CCS/EasyVVUQ"
   ]
  },
  {
   "cell_type": "code",
   "execution_count": null,
   "metadata": {},
   "outputs": [],
   "source": [
    "import os\n",
    "os.kill(os.getpid(), 9)"
   ]
  },
  {
   "cell_type": "markdown",
   "metadata": {
    "colab_type": "text",
    "id": "O5RXyRXm4tIf"
   },
   "source": [
    "# Epidemiological Model\n",
    "\n",
    "In our model individuals are placed on a two dimensional square grid. During each turn, the individual moves at random one square in one of eight possible directions (N, NE, E, SE, S, SW, W or NW). If the individual encounters another individual and that person is ill, the individual will also become sick for a specified number of turns (that number is a parameter to the model). Once ill, the individual cannot become sick anymore and after getting over the disease they will have immunity. Immunity means that this person cannot get infected anymore. The simulation continues until no one is sick. At that point the disease counts as erradicated."
   ]
  },
  {
   "cell_type": "markdown",
   "metadata": {
    "colab_type": "text",
    "id": "chwejpvvRCNC"
   },
   "source": [
    "Let us load the model and see how it operates. We create a population on a 10x10 grid containing 20 individuals. Once infected the individual can transmit the disease for 28 turns. After that they have a 20% chance of dying."
   ]
  },
  {
   "cell_type": "code",
   "execution_count": null,
   "metadata": {
    "colab": {},
    "colab_type": "code",
    "id": "cBYFOLALP7g7"
   },
   "outputs": [],
   "source": [
    "import matplotlib.pyplot as plt\n",
    "import numpy as np\n",
    "import EasyVVUQ.docs.epidemic.epidemic as epidemic\n",
    "\n",
    "population = epidemic.Population(grid_size=10, n=20, duration=28, mortality=0.2)"
   ]
  },
  {
   "cell_type": "markdown",
   "metadata": {
    "colab_type": "text",
    "id": "LD0bwjvxbHbP"
   },
   "source": [
    "The code cell below is supposed to be run multiple times. Each time you run it the image below will update to show the state of the population. The black squares are empty, the white squares represent individuals who are not immune and are not sick. The red squares represent ill individuals and the intensity of the red shows how many turns they will stay ill for. Green squares represent individuals who are immune. Once the disease is eradicated, the graphic will change to a plot showing the evolution of the disease over time."
   ]
  },
  {
   "cell_type": "code",
   "execution_count": null,
   "metadata": {
    "colab": {},
    "colab_type": "code",
    "id": "_gDcO4TQRM-Y"
   },
   "outputs": [],
   "source": [
    "population.move()\n",
    "if np.count_nonzero(population.ill):\n",
    "  plt.imshow(population.get_im())\n",
    "  plt.show()\n",
    "else:\n",
    "  plt.plot(population.ill_history, label=\"Sick Individuals\")\n",
    "  plt.plot(population.immune_history, label=\"Immune Individuals\")\n",
    "  plt.plot(population.n_history, label=\"Population\")\n",
    "  plt.xlabel(\"Time\")\n",
    "  plt.ylabel(\"Count\")\n",
    "  plt.legend()\n",
    "  plt.show()"
   ]
  },
  {
   "cell_type": "markdown",
   "metadata": {
    "colab_type": "text",
    "id": "lMaeqU5942PB"
   },
   "source": [
    "Since EasyVVUQ is meant to be a general framework (non-Python specific) we don't call Python functions directly to get results of the simulation. After all, many simulations are still written in Fortran and operate by taking an input file and producing a file with outputs of the simulation. To do statistical analysis we need to be able to provide an appropriate input file to the simulation and be able to parse the outputs of the simulation. You can run our simulation as in the following example."
   ]
  },
  {
   "cell_type": "code",
   "execution_count": null,
   "metadata": {
    "colab": {},
    "colab_type": "code",
    "id": "GStHHTzNAndx"
   },
   "outputs": [],
   "source": [
    "!cd EasyVVUQ/docs/epidemic/; python3 epidemic.py example.json output.csv"
   ]
  },
  {
   "cell_type": "markdown",
   "metadata": {
    "colab_type": "text",
    "id": "zl3ItaR5NdxV"
   },
   "source": [
    "This will have produced a file called output.csv that consists of four columns labeled \"iteration\", \"ill\", \"immune\" and \"population\". These should be fairly self explanatory."
   ]
  },
  {
   "cell_type": "code",
   "execution_count": null,
   "metadata": {
    "colab": {},
    "colab_type": "code",
    "id": "UeKJH_1sBGsN"
   },
   "outputs": [],
   "source": [
    "!cat EasyVVUQ/docs/epidemic/output.csv"
   ]
  },
  {
   "cell_type": "markdown",
   "metadata": {
    "colab_type": "text",
    "id": "B-VMs_nEBBhE"
   },
   "source": [
    "Let us plot this data and see what the evolution of the disease looks like in our population."
   ]
  },
  {
   "cell_type": "code",
   "execution_count": null,
   "metadata": {
    "colab": {},
    "colab_type": "code",
    "id": "Wci3iduVBr7E"
   },
   "outputs": [],
   "source": [
    "  import matplotlib.pyplot as plt\n",
    "  import pandas as pd\n",
    "\n",
    "  df = pd.read_csv(\"EasyVVUQ/docs/epidemic/output.csv\")\n",
    "  plt.plot(df['ill'], label=\"Sick Individuals\")\n",
    "  plt.plot(df['immune'], label=\"Immune Individuals\")\n",
    "  plt.plot(df['population'], label=\"Population\")\n",
    "  plt.xlabel(\"Time\")\n",
    "  plt.ylabel(\"Count\")\n",
    "  plt.legend()\n",
    "  plt.show()"
   ]
  },
  {
   "cell_type": "markdown",
   "metadata": {
    "colab_type": "text",
    "id": "ZPTzDP7KaA4Y"
   },
   "source": [
    "A short summary is in order so that we can start exploring the sample space of our model:\n",
    "\n",
    "* We have a script that takes a JSON file with parameters and produces a CSV file with the output.\n",
    "* The model takes 4 input parameters - grid size, population size, disease duration and mortality rate.\n",
    "* The model produces 4 columns of output - iteration number, number of sick people, number of immune people and the current population size."
   ]
  },
  {
   "cell_type": "markdown",
   "metadata": {
    "colab_type": "text",
    "id": "1qCJk4g5bsfI"
   },
   "source": [
    "We will use EasyVVUQ to help us answer some questions about the model. Here are some simple ones that arise from toying with the model:\n",
    "\n",
    "* Given that every time the length of time before the disease is erradicated is different even with the same parameters (due to the fact that each individual chooses where to move to at random), we might want to know, within a given certainty range, what the expected value of that is. This tells us, with needed confidence, how long we can expect the disease to last given certain parameters.\n",
    "* We might also do the same thing but for a set of parameter values. Namely we might want to performa a parameter sweep with corresponding error bars.\n",
    "* We might also want to improve our results by adding more samples to our analysis - hence we will see how we can restart a simulation and draw more samples to improve the accuracy.\n",
    "* At some point we will want to use external resources to execute our simulations. We will quickly discuss how this can be done.\n",
    "* Finally, given that our model is quite computationally expensive, we might want to explore the possibility of creating surrogate models to stand-in in place of the original model. These are usually expensive to create but very cheap to evaluate. Hence there is a possibility that we will be able to extract knowledge about our model from them that would be too expensive (computationally or otherwise) with a full simulation."
   ]
  },
  {
   "cell_type": "markdown",
   "metadata": {
    "colab_type": "text",
    "id": "FOPcPFeJT3Vt"
   },
   "source": [
    "But first we need to set EasyVVUQ up to produce the configuration files in the suitable format and read in the output of the simulation. We also need to give a description of the parameter space. We also need to specify how we will execute our simulation. The next sections is concerened with these tasks."
   ]
  },
  {
   "cell_type": "markdown",
   "metadata": {
    "colab_type": "text",
    "id": "zkWCN7Pe6GJB"
   },
   "source": [
    "# EasyVVUQ Set-up\n",
    "\n",
    "For the examples in this tutorial we import some libraries that will be used throughout. EasyVVUQ will be referred to as 'uq' in the code. We also need Chaospy because we use it for the probability distribution classes. We use numpy for certain small tasks and we use pandas DataFrame as the standard data exchange format as is customary in the Python data science infrastucture."
   ]
  },
  {
   "cell_type": "code",
   "execution_count": 1,
   "metadata": {
    "colab": {},
    "colab_type": "code",
    "id": "Yd2XHwIE4tIg"
   },
   "outputs": [],
   "source": [
    "import easyvvuq as uq\n",
    "import chaospy as cp\n",
    "import easyvvuq.collate\n",
    "import numpy as np\n",
    "import pandas as pd\n",
    "import matplotlib.pyplot as plt\n",
    "import os\n",
    "from pathlib import Path"
   ]
  },
  {
   "cell_type": "markdown",
   "metadata": {
    "colab_type": "text",
    "id": "PhCZgtszlpU5"
   },
   "source": [
    "While we are at it we also want to describe the arguments to our model. This takes a form of a Python dictionary. The dictionary is based on the Cerberus validator dictionary format. For more information refer to Cerberus [documentation](https://docs.python-cerberus.org/en/stable/). This dictionary is used in both validation of the results and for the default values when we don't want to vary a certain parameter."
   ]
  },
  {
   "cell_type": "code",
   "execution_count": 2,
   "metadata": {
    "colab": {},
    "colab_type": "code",
    "id": "isCmUx0bm6AX"
   },
   "outputs": [],
   "source": [
    "params = {\n",
    "    \"grid_size\": {\"type\": \"float\", \"default\": 10},\n",
    "    \"n\": {\"type\": \"float\", \"min\": 1, \"max\": 100, \"default\": 20},\n",
    "    \"duration\": {\"type\": \"float\", \"min\": 0, \"max\": 365, \"default\": 28},\n",
    "    \"mortality\": {\"type\": \"float\", \"min\": 0.0, \"max\": 1.0, \"default\": 0.2},\n",
    "    \"ensemble\" : {\"type\": \"integer\", \"default\": 0}\n",
    "}"
   ]
  },
  {
   "cell_type": "markdown",
   "metadata": {
    "colab_type": "text",
    "id": "eUuupPuDbVNi"
   },
   "source": [
    "We will also want to set-up some elements that will stay the same for all the examples. These components are the encoder - which is responsible for creating input files for our simulation and the decoder - which is responsible for parsing the output of the simulation."
   ]
  },
  {
   "cell_type": "markdown",
   "metadata": {
    "colab_type": "text",
    "id": "UX-nxATzcquI"
   },
   "source": [
    "For the Encoder we use the GenericEncoder class. It is a very simple template based encoder. It finds a specified delimiter, and replaces the variable name that follows that delimiter with the corresponding value. In our case the template file looks like follows:\n",
    "\n",
    "```\n",
    "{\n",
    "    \"grid_size\" : $grid_size,\n",
    "    \"n\" : $n,\n",
    "    \"duration\" : $duration,\n",
    "    \"mortality\" : $mortality\n",
    "}\n",
    "```\n",
    "\n",
    "From this template, a JSON file will be created and then passed to the simulation script as an argument. EasyVVUQ has other encoders as well. For example the [Jinja encoder](https://easyvvuq.readthedocs.io/en/dev/source/easyvvuq.encoders.html#module-easyvvuq.encoders.jinja_encoder).\n",
    "\n"
   ]
  },
  {
   "cell_type": "code",
   "execution_count": 3,
   "metadata": {
    "colab": {},
    "colab_type": "code",
    "id": "3MUHaMR5chT-"
   },
   "outputs": [],
   "source": [
    "encoder = uq.encoders.GenericEncoder(\n",
    "    template_fname='EasyVVUQ/docs/epidemic/epidemic.template',\n",
    "    delimiter='$',\n",
    "    target_filename='epidemic_in.json')"
   ]
  },
  {
   "cell_type": "markdown",
   "metadata": {
    "colab_type": "text",
    "id": "ht9C4JYmoK_k"
   },
   "source": [
    "Since the quantity of interest (number of turns until the disease is erradicated) is a function of the simulation output (it is the iteration number of the last row) we need to extend the Decoder class to take this in to account. To this end we inherit from SimpleCSV decoder and redefine the `parse_sim_output` method to take the last value of the `iteration` column in the file produced by the simulation. This gives us the length in turns for which the simulation ran or in other words before the disease disappeared in our simulation."
   ]
  },
  {
   "cell_type": "code",
   "execution_count": 4,
   "metadata": {
    "colab": {},
    "colab_type": "code",
    "id": "kloY-UH2my9q"
   },
   "outputs": [],
   "source": [
    "class EpidemicDecoder(uq.decoders.SimpleCSV, decoder_name='epidemic_decoder'):\n",
    "    def parse_sim_output(self, run_info={}):\n",
    "        result = super().parse_sim_output(run_info)\n",
    "        return pd.DataFrame(result.tail(1)['iteration'])\n",
    "\n",
    "decoder = EpidemicDecoder(\n",
    "    target_filename=\"output.csv\", output_columns=[\"iteration\"], header=0)"
   ]
  },
  {
   "cell_type": "markdown",
   "metadata": {
    "colab_type": "text",
    "id": "p9QHSWzva6td"
   },
   "source": [
    "We will also define a helper function that will execute the simulation with the provided input files. This function takes a campaign object, creates the directories with input files and then runs our script in them with those files as inputs. The exact details of this process can be found [here](https://easyvvuq.readthedocs.io/en/dev/source/easyvvuq.html#easyvvuq.campaign.Campaign.populate_runs_dir) and [here](https://easyvvuq.readthedocs.io/en/dev/source/easyvvuq.html#easyvvuq.campaign.Campaign.apply_for_each_run_dir)."
   ]
  },
  {
   "cell_type": "code",
   "execution_count": 5,
   "metadata": {
    "colab": {},
    "colab_type": "code",
    "id": "OIs3RbZmnShL"
   },
   "outputs": [],
   "source": [
    "def campaign_execute(campaign):\n",
    "  campaign.apply_for_each_run_dir(\n",
    "      uq.actions.ExecuteLocal(\n",
    "          \"{} epidemic_in.json output.csv\".format(\n",
    "              os.path.abspath('EasyVVUQ/docs/epidemic/epidemic.py')), \n",
    "              interpret=\"python3\"))"
   ]
  },
  {
   "cell_type": "markdown",
   "metadata": {
    "colab_type": "text",
    "id": "fmMy1CXrdpd8"
   },
   "source": [
    "The collater is responsible for aggregating the outputs of the simulation. Think of it this way: the decoder produces a pandas `DataFrame` from the output of a simulation while a collater takes `DataFrames` from many simulations and produces a single `DataFrame` from them. The simplest way of doing this is to simply concatenate the `DataFrames` which is what [`AggregateSamples`](https://easyvvuq.readthedocs.io/en/dev/source/easyvvuq.collate.html#easyvvuq.collate.aggregate_samples.AggregateSamples) collater does."
   ]
  },
  {
   "cell_type": "code",
   "execution_count": 6,
   "metadata": {
    "colab": {},
    "colab_type": "code",
    "id": "dJsSCDZEnbHs"
   },
   "outputs": [],
   "source": [
    "collater = uq.collate.AggregateSamples(average=False)"
   ]
  },
  {
   "cell_type": "markdown",
   "metadata": {
    "colab_type": "text",
    "id": "uhwgG1Wc4tIj"
   },
   "source": [
    "## Basic Example\n",
    "\n",
    "We start by creating an\n",
    "EasyVVUQ Campaign. Here we call it 'epidemic_basic'. :"
   ]
  },
  {
   "cell_type": "code",
   "execution_count": null,
   "metadata": {
    "colab": {},
    "colab_type": "code",
    "id": "Cf5cFQXr4tIj"
   },
   "outputs": [],
   "source": [
    "campaign = uq.Campaign(name='epidemic_basic')\n",
    "print(campaign)"
   ]
  },
  {
   "cell_type": "markdown",
   "metadata": {
    "colab_type": "text",
    "id": "IxyJdZD6oOLd"
   },
   "source": [
    "We then want to describe our application. This means passing parameter dictionary, enoder, decoder and collater to the campaign object."
   ]
  },
  {
   "cell_type": "code",
   "execution_count": null,
   "metadata": {
    "colab": {},
    "colab_type": "code",
    "id": "Ftd-tq6a4tIx"
   },
   "outputs": [],
   "source": [
    "# Add the app (automatically set as current app)\n",
    "campaign.add_app(\n",
    "    name=\"epidemic\",\n",
    "    params=params,\n",
    "    encoder=encoder,\n",
    "    decoder=decoder,\n",
    "    collater=collater)"
   ]
  },
  {
   "cell_type": "markdown",
   "metadata": {
    "colab_type": "text",
    "id": "EBUKUTyL4tIz"
   },
   "source": [
    "For this particular task we are not interested in the relationship between input parameters and the behavior of the simulation. All we want is to see how much the result varies between runs that are identical but for the random seed."
   ]
  },
  {
   "cell_type": "code",
   "execution_count": null,
   "metadata": {
    "colab": {},
    "colab_type": "code",
    "id": "1eDGvW3J4tI2"
   },
   "outputs": [],
   "source": [
    "from easyvvuq.sampling import EmptySampler\n",
    "campaign.set_sampler(EmptySampler())"
   ]
  },
  {
   "cell_type": "markdown",
   "metadata": {
    "colab_type": "text",
    "id": "syDEBtKzo7TS"
   },
   "source": [
    "EmptySampler is a convenience class for such cases. However, another option is, if your simulation provides the option to specify different seeds, to draw the seeds from a probability distribution. In cases like these you could specify the sampler like this:\n",
    "\n",
    "```\n",
    "from easyvvuq.sampling import RandomSampler\n",
    "\n",
    "vary = {'seed' : cp.DiscreteUniform(0, MAX_SEED)}\n",
    "sampler = RandomSampler(vary)\n",
    "```\n",
    "\n",
    "In the above example `MAX_SEED` is the maximum value the seed can take plus one.\n"
   ]
  },
  {
   "cell_type": "markdown",
   "metadata": {
    "colab_type": "text",
    "id": "IIDKFbhQ4tI7"
   },
   "source": [
    "Calling the campaign's draw\\_samples() method will cause the specified\n",
    "number of samples to be added as runs to the campaign database, awaiting\n",
    "encoding and execution. Please note that nothing is executed at this stage. Neither any changes are made to the file system (e.g. no input files are created). This happens at a later stage. If no arguments are passed to draw\\_samples()\n",
    "then all samples will be drawn, unless the sampler is not finite. In\n",
    "this case let us try 20 samples :"
   ]
  },
  {
   "cell_type": "code",
   "execution_count": null,
   "metadata": {
    "colab": {},
    "colab_type": "code",
    "id": "RD5cupoa4tI7"
   },
   "outputs": [],
   "source": [
    "campaign.draw_samples(20)"
   ]
  },
  {
   "cell_type": "markdown",
   "metadata": {
    "colab_type": "text",
    "id": "ers0rL4rnh7u"
   },
   "source": [
    "Let us now create the input files for our simulations."
   ]
  },
  {
   "cell_type": "code",
   "execution_count": null,
   "metadata": {
    "colab": {},
    "colab_type": "code",
    "id": "E2gnD00wnldB"
   },
   "outputs": [],
   "source": [
    "campaign.populate_runs_dir()"
   ]
  },
  {
   "cell_type": "markdown",
   "metadata": {
    "colab_type": "text",
    "id": "E5RS1S0Hp97R"
   },
   "source": [
    "We now want to execute the simulations. Please note, that after this stage the results are not yet processed. The output files are just sitting on the filesystem awaiting collation."
   ]
  },
  {
   "cell_type": "code",
   "execution_count": null,
   "metadata": {
    "colab": {},
    "colab_type": "code",
    "id": "VvHnsBKXqAqX"
   },
   "outputs": [],
   "source": [
    "campaign_execute(campaign)"
   ]
  },
  {
   "cell_type": "markdown",
   "metadata": {
    "colab_type": "text",
    "id": "2QARvB3rH7_U"
   },
   "source": [
    "We can now see what the result is. It will be a DataFrame containing the number of iterations before the disease is erradicated. Calling collate on the campaign object will find and parse the output files of our simulation and then produce a single DataFrame with the results.\n"
   ]
  },
  {
   "cell_type": "code",
   "execution_count": null,
   "metadata": {
    "colab": {},
    "colab_type": "code",
    "id": "o4Dy4R1bH08q"
   },
   "outputs": [],
   "source": [
    "campaign.collate()\n",
    "df = campaign.get_collation_result()\n",
    "print(df)"
   ]
  },
  {
   "cell_type": "markdown",
   "metadata": {
    "colab_type": "text",
    "id": "yJLFypP34tJD"
   },
   "source": [
    "This collated data is stored in the campaign database. An analysis\n",
    "element, here EnsembleBoot (which performs [bootstraping](https://en.wikipedia.org/wiki/Bootstrapping_(statistics))), can then be applied to the campaign's\n",
    "collation result. :"
   ]
  },
  {
   "cell_type": "code",
   "execution_count": null,
   "metadata": {
    "colab": {},
    "colab_type": "code",
    "id": "CacIi3Ky4tJE"
   },
   "outputs": [],
   "source": [
    "analysis = uq.analysis.EnsembleBoot(qoi_cols=[\"iteration\"], stat_func=np.mean, stat_name='mean', alpha=0.05)\n",
    "campaign.apply_analysis(analysis)"
   ]
  },
  {
   "cell_type": "markdown",
   "metadata": {
    "colab_type": "text",
    "id": "rGgiN7cA4tJF"
   },
   "source": [
    "The output of this is dependent on the type of analysis element. :"
   ]
  },
  {
   "cell_type": "code",
   "execution_count": null,
   "metadata": {
    "colab": {},
    "colab_type": "code",
    "id": "-TvW8CIj4tJG"
   },
   "outputs": [],
   "source": [
    "# Get Descriptive Statistics\n",
    "results = campaign.get_last_analysis()\n",
    "print(results)"
   ]
  },
  {
   "cell_type": "markdown",
   "metadata": {
    "colab_type": "text",
    "id": "fDPk1Eahzf8v"
   },
   "source": [
    "The above gives the mean value of the number of iterations before the disease eradication and the 95% confidence region for that estimator."
   ]
  },
  {
   "cell_type": "markdown",
   "metadata": {
    "colab_type": "text",
    "id": "PAWMNIaZWciH"
   },
   "source": [
    "# Parameter Sweep\n",
    "\n",
    "Suppose we want to examine the behaviour of the model by doing a sweep across a range of parameter values. Let's say that given a fixed population size and fixed mortality rate we want to see how does the model behaves if we vary the disease duration parameter from 4 days to, for example, 28 days. We will do this in 2 day increments. Also, in order to perform some kind of statistical analysis of the results we will want to do sample the same parameter set several times. We will do this using the replicas mechanism in the EasyVVUQ."
   ]
  },
  {
   "cell_type": "markdown",
   "metadata": {
    "colab_type": "text",
    "id": "Yyd_LYTZoWro"
   },
   "source": [
    "First we define a new campaign."
   ]
  },
  {
   "cell_type": "code",
   "execution_count": 7,
   "metadata": {
    "colab": {},
    "colab_type": "code",
    "id": "-PTFAsd1YExO"
   },
   "outputs": [],
   "source": [
    "campaign = uq.Campaign(name='epidemic_sweep')\n",
    "campaign.add_app(\n",
    "    name=\"epidemic_sweep\",\n",
    "    params=params,\n",
    "    encoder=encoder,\n",
    "    decoder=decoder,\n",
    "    collater=collater)"
   ]
  },
  {
   "cell_type": "markdown",
   "metadata": {
    "colab_type": "text",
    "id": "gtqE6rVVovw5"
   },
   "source": [
    "We need to define a different kind of sampler. In our case we want BasicSweep which allows one to sample an n-dimensional grid of values. In this case we specify a single parameter and give it a list of values. If you add more parameters the sampler will then sample a Cartesian product of those lists. For examples `{'a' : [1, 2], 'b' : [3, 4]}` will result in `{'a': 1, 'b': 3}`, `{'a': 1, 'b': 4}`, `{'a': 2, 'b': 3}` and `{'a': 2, 'b': 4}` being sampled."
   ]
  },
  {
   "cell_type": "code",
   "execution_count": 8,
   "metadata": {
    "colab": {},
    "colab_type": "code",
    "id": "QYga_8MMXkb3"
   },
   "outputs": [],
   "source": [
    "sweep = {\n",
    "    \"duration\" : list(range(2, 30, 2))\n",
    "}\n",
    "sweep_sampler = uq.sampling.BasicSweep(sweep=sweep)"
   ]
  },
  {
   "cell_type": "markdown",
   "metadata": {},
   "source": [
    "We will also want to sample each point multiple times in order to construct confidence intervals. To this end we use a ReplicaSampler element which wraps around our `sweep_sampler`. In essence it will simply run the simulation with the same inputs multiple times with different random number generator seeds."
   ]
  },
  {
   "cell_type": "code",
   "execution_count": 9,
   "metadata": {},
   "outputs": [],
   "source": [
    "from easyvvuq.sampling import ReplicaSampler\n",
    "sampler = ReplicaSampler(sweep_sampler)\n",
    "campaign.set_sampler(sampler)"
   ]
  },
  {
   "cell_type": "markdown",
   "metadata": {},
   "source": [
    "Finally we want to draw some samples from this new sampler."
   ]
  },
  {
   "cell_type": "code",
   "execution_count": null,
   "metadata": {},
   "outputs": [],
   "source": [
    "campaign.draw_samples(20 * 14)"
   ]
  },
  {
   "cell_type": "markdown",
   "metadata": {
    "colab_type": "text",
    "id": "nVF9fqai8iU6"
   },
   "source": [
    "The following steps are the same as in our more basic example. Note that execution might take some time. That is because we are running 280 simulations on the machine that is hosting this notebook."
   ]
  },
  {
   "cell_type": "code",
   "execution_count": null,
   "metadata": {
    "colab": {},
    "colab_type": "code",
    "id": "zomhNA23Y6iD"
   },
   "outputs": [],
   "source": [
    "campaign.populate_runs_dir()\n",
    "campaign_execute(campaign)"
   ]
  },
  {
   "cell_type": "code",
   "execution_count": null,
   "metadata": {
    "colab": {},
    "colab_type": "code",
    "id": "hF6BuutSmF4a"
   },
   "outputs": [],
   "source": [
    "campaign.collate()\n",
    "df = campaign.get_collation_result()\n",
    "print(df)"
   ]
  },
  {
   "cell_type": "markdown",
   "metadata": {
    "colab_type": "text",
    "id": "_fesrbXQ9sX2"
   },
   "source": [
    "One important difference in the analysis stage below is the addition of the `groupby` keyword argument. This means, essentially, that bootstrapping will be done on rows with the same `ensemble_id` value separately. So in the end we will get `(30 - 2) / 2 = 14` triples of the mean value and lower/upper confidence bounds."
   ]
  },
  {
   "cell_type": "code",
   "execution_count": null,
   "metadata": {
    "colab": {},
    "colab_type": "code",
    "id": "mWQ2WEb6sTUm"
   },
   "outputs": [],
   "source": [
    "analysis = uq.analysis.EnsembleBoot(qoi_cols=[\"iteration\"], groupby='ensemble', stat_func=np.mean, stat_name='mean')\n",
    "campaign.apply_analysis(analysis)"
   ]
  },
  {
   "cell_type": "markdown",
   "metadata": {
    "colab_type": "text",
    "id": "KjOTJzW9-cUc"
   },
   "source": [
    "We can now view the resulting `DataFrame`."
   ]
  },
  {
   "cell_type": "code",
   "execution_count": null,
   "metadata": {
    "colab": {},
    "colab_type": "code",
    "id": "jRVhGK84sXcM"
   },
   "outputs": [],
   "source": [
    "results = campaign.get_last_analysis()\n",
    "print(results)"
   ]
  },
  {
   "cell_type": "code",
   "execution_count": null,
   "metadata": {
    "colab": {},
    "colab_type": "code",
    "id": "LwWwIsNbszAJ"
   },
   "outputs": [],
   "source": [
    "plt.errorbar(list(range(2, 30, 2)), \n",
    "             results['iteration']['mean'].values,\n",
    "             np.array([results['iteration']['mean'].values - results['iteration']['low'].values,\n",
    "                       results['iteration']['high'].values - results['iteration']['mean'].values]))\n",
    "plt.xlabel('duration (days)')\n",
    "plt.ylabel('days until eradication')\n",
    "plt.show()"
   ]
  },
  {
   "cell_type": "markdown",
   "metadata": {
    "colab_type": "text",
    "id": "ElXBj81rUDpu"
   },
   "source": [
    "# Remote Execution"
   ]
  },
  {
   "cell_type": "markdown",
   "metadata": {},
   "source": [
    "This part of the tutorial assumes that you have a Kubernetes cluster access configured. In other words the `~/.kube/config` file needs to be populated with the data that Kubernetes API can use to connect to a cluster. The exact details for how to do this will depend on your cloud service provider. For example, in order to start a cluster on GKE I would need to run the following command (or similar):"
   ]
  },
  {
   "cell_type": "code",
   "execution_count": null,
   "metadata": {},
   "outputs": [],
   "source": [
    "!gcloud container clusters create easyvvuq"
   ]
  },
  {
   "cell_type": "markdown",
   "metadata": {},
   "source": [
    "To use this functionality you would first need to create a Docker image for your simulation. There are many resource on how to do this. See for example [here](https://docs.docker.com/get-started/part2/). For your convenience below is the Dockerfile we have used when creating an EasyVVUQ image that will be used in his example. You also need to publish your Docker image to where it can be downloaded by the Kubernetes cluster. An obvious place is [Docker Hub](https://hub.docker.com/).\n",
    "\n",
    "```\n",
    "FROM ubuntu:latest\n",
    "\n",
    "RUN apt-get update && \\\n",
    "    apt-get install -y python3-pip && \\\n",
    "    apt-get install -y git && \\\n",
    "    apt-get install -y tini && \\\n",
    "    pip3 install easyvvuq && \\\n",
    "    git clone https://github.com/UCL-CCS/EasyVVUQ.git\n",
    "\n",
    "ENTRYPOINT [\"tini\", \"--\"]\n",
    "```"
   ]
  },
  {
   "cell_type": "markdown",
   "metadata": {},
   "source": [
    "After this, the only other bit of boring admin you need to do is to create a Kubernetes pod configuration. Again here is the one that was used in this tutorial:\n",
    "\n",
    "```\n",
    "apiVersion: v1\n",
    "kind: Pod\n",
    "metadata:\n",
    "  name: epidemic\n",
    "spec:\n",
    "  restartPolicy: Never\n",
    "  containers:\n",
    "  - name: epidemic\n",
    "    image: orbitfold/easyvvuq:latest\n",
    "    command: [\"/bin/sh\", \"-c\"]\n",
    "    args: [\"python3 /EasyVVUQ/docs/epidemic/epidemic.py /config/example.json out.csv && cat out.csv\"]\n",
    "```\n",
    "\n",
    "It will likely be the same for your simulation. Please note the image name, and the command that will be used to execute the simulation. In the current implementation your simulation needs to put all output to the standard output. So after creating the output CSV file we use `cat` to print it to the screen. Your way of doing this is likely to be different."
   ]
  },
  {
   "cell_type": "markdown",
   "metadata": {},
   "source": [
    "We have, so far, drawn 20 samples in our parameter sweep which has resulted in fairly wide error bars. We can shrink them by adding more samples. To this end will draw 80 more samples and create the corresponding input files."
   ]
  },
  {
   "cell_type": "code",
   "execution_count": 10,
   "metadata": {},
   "outputs": [],
   "source": [
    "campaign.draw_samples(80 * 14)\n",
    "campaign.populate_runs_dir()"
   ]
  },
  {
   "cell_type": "markdown",
   "metadata": {},
   "source": [
    "Now we call `apply_for_each_run_dir` with the `ExecuteKubernetes` action. This will submit the jobs to the Kubernetes cluster and the execution will automatically start."
   ]
  },
  {
   "cell_type": "code",
   "execution_count": 11,
   "metadata": {},
   "outputs": [],
   "source": [
    "statuses = campaign.apply_for_each_run_dir(\n",
    "      uq.actions.ExecuteKubernetes('tutorial_files/kubernetes/epidemic.yaml', \n",
    "                                   ['epidemic_in.json'], 'output.csv'))"
   ]
  },
  {
   "cell_type": "code",
   "execution_count": 47,
   "metadata": {},
   "outputs": [
    {
     "name": "stdout",
     "output_type": "stream",
     "text": [
      "{'active': 0, 'finished': 1120, 'failed': 0}\n"
     ]
    }
   ],
   "source": [
    "print(statuses.stats)"
   ]
  },
  {
   "cell_type": "code",
   "execution_count": 43,
   "metadata": {},
   "outputs": [
    {
     "name": "stdout",
     "output_type": "stream",
     "text": [
      "      index  iteration  duration  ensemble  grid_size   n  mortality  \\\n",
      "0         0          4         2         0         10  20        0.2   \n",
      "1         1          4         4         1         10  20        0.2   \n",
      "2         2          6         6         2         10  20        0.2   \n",
      "3         3         17         8         3         10  20        0.2   \n",
      "4         4         23        10         4         10  20        0.2   \n",
      "...     ...        ...       ...       ...        ...  ..        ...   \n",
      "1115   1115        118        20         9         10  20        0.2   \n",
      "1116   1116         21        22        10         10  20        0.2   \n",
      "1117   1117         59        24        11         10  20        0.2   \n",
      "1118   1118         64        26        12         10  20        0.2   \n",
      "1119   1119         61        28        13         10  20        0.2   \n",
      "\n",
      "        run_id    ensemble_id  \n",
      "0        Run_1     Ensemble_1  \n",
      "1        Run_2     Ensemble_2  \n",
      "2        Run_3     Ensemble_3  \n",
      "3        Run_4     Ensemble_4  \n",
      "4        Run_5     Ensemble_5  \n",
      "...        ...            ...  \n",
      "1115  Run_1116  Ensemble_1116  \n",
      "1116  Run_1117  Ensemble_1117  \n",
      "1117  Run_1118  Ensemble_1118  \n",
      "1118  Run_1119  Ensemble_1119  \n",
      "1119  Run_1120  Ensemble_1120  \n",
      "\n",
      "[1120 rows x 9 columns]\n"
     ]
    }
   ],
   "source": [
    "campaign.collate()\n",
    "df = campaign.get_collation_result()\n",
    "print(df)"
   ]
  },
  {
   "cell_type": "code",
   "execution_count": 44,
   "metadata": {},
   "outputs": [],
   "source": [
    "analysis = uq.analysis.EnsembleBoot(qoi_cols=[\"iteration\"], groupby='ensemble', stat_func=np.mean, stat_name='mean')\n",
    "campaign.apply_analysis(analysis)"
   ]
  },
  {
   "cell_type": "code",
   "execution_count": 45,
   "metadata": {},
   "outputs": [
    {
     "name": "stdout",
     "output_type": "stream",
     "text": [
      "         iteration                      \n",
      "              mean        low       high\n",
      "ensemble                                \n",
      "0          1.32500   1.187500   1.475000\n",
      "1          4.51250   4.037500   5.050000\n",
      "2         10.35000   9.112500  11.675313\n",
      "3         14.63750  12.736875  16.687500\n",
      "4         24.66250  21.699063  27.364062\n",
      "5         35.16250  31.899062  38.225313\n",
      "6         43.11875  38.859062  47.350000\n",
      "7         54.26250  50.875000  57.625312\n",
      "8         56.03750  51.985937  59.612500\n",
      "9         60.75625  56.649687  65.264062\n",
      "10        65.24375  61.474688  69.413438\n",
      "11        67.74375  63.948750  71.750625\n",
      "12        72.62500  69.774687  75.300312\n",
      "13        75.14375  71.999687  78.450313\n"
     ]
    }
   ],
   "source": [
    "results = campaign.get_last_analysis()\n",
    "print(results)"
   ]
  },
  {
   "cell_type": "code",
   "execution_count": 46,
   "metadata": {},
   "outputs": [
    {
     "data": {
      "image/png": "[encoded data removed]",
      "text/plain": [
       "<Figure size 432x288 with 1 Axes>"
      ]
     },
     "metadata": {
      "needs_background": "light"
     },
     "output_type": "display_data"
    }
   ],
   "source": [
    "plt.errorbar(list(range(2, 30, 2)), \n",
    "             results['iteration']['mean'].values,\n",
    "             np.array([results['iteration']['mean'].values - results['iteration']['low'].values,\n",
    "                       results['iteration']['high'].values - results['iteration']['mean'].values]))\n",
    "plt.xlabel('duration (days)')\n",
    "plt.ylabel('days until eradication')\n",
    "plt.show()"
   ]
  },
  {
   "cell_type": "markdown",
   "metadata": {
    "colab_type": "text",
    "id": "xdGqgdlg4tJI"
   },
   "source": [
    "# Using Stochastic Collocation"
   ]
  },
  {
   "cell_type": "code",
   "execution_count": null,
   "metadata": {
    "colab": {},
    "colab_type": "code",
    "id": "eZJDR7_ZvUTx"
   },
   "outputs": [],
   "source": [
    "params = {\n",
    "    \"grid_size\": {\"type\": \"float\", \"default\": 10},\n",
    "    \"n\": {\"type\": \"float\", \"min\": 1, \"max\": 100, \"default\": 20},\n",
    "    \"duration\": {\"type\": \"float\", \"min\": 0, \"max\": 365, \"default\": 28},\n",
    "    \"mortality\": {\"type\": \"float\", \"min\": 0.0, \"max\": 1.0, \"default\": 0.2}\n",
    "}\n",
    "\n",
    "campaign = uq.Campaign(name='epidemic_sc')\n",
    "campaign.add_app(\n",
    "    name=\"epidemic_sc\",\n",
    "    params=params,\n",
    "    encoder=encoder,\n",
    "    decoder=decoder,\n",
    "    collater=collater)"
   ]
  },
  {
   "cell_type": "code",
   "execution_count": null,
   "metadata": {
    "colab": {},
    "colab_type": "code",
    "id": "HocadTwF4tJJ"
   },
   "outputs": [],
   "source": [
    "vary = {\n",
    "    \"n\": cp.DiscreteUniform(10, 100),\n",
    "    \"duration\": cp.DiscreteUniform(7, 56),\n",
    "    \"mortality\": cp.Uniform(0.0, 1.0),\n",
    "}\n",
    "sampler = uq.sampling.SCSampler(vary=vary, polynomial_order=5)\n",
    "campaign.set_sampler(sampler)\n",
    "campaign.draw_samples()"
   ]
  },
  {
   "cell_type": "code",
   "execution_count": null,
   "metadata": {
    "colab": {},
    "colab_type": "code",
    "id": "E6LLEaUaN12F"
   },
   "outputs": [],
   "source": [
    "import os\n",
    "campaign.populate_runs_dir()\n",
    "campaign.apply_for_each_run_dir(\n",
    "    uq.actions.ExecuteLocal(\n",
    "        \"{} epidemic_in.json output.csv\".format(\n",
    "            os.path.abspath('EasyVVUQ/docs/epidemic/epidemic.py')), \n",
    "            interpret=\"python3\"))"
   ]
  },
  {
   "cell_type": "code",
   "execution_count": null,
   "metadata": {
    "colab": {},
    "colab_type": "code",
    "id": "hdlG-EpXOARP"
   },
   "outputs": [],
   "source": [
    "campaign.collate()\n",
    "df = campaign.get_collation_result()\n",
    "print(df)"
   ]
  },
  {
   "cell_type": "markdown",
   "metadata": {
    "colab_type": "text",
    "id": "qrmRhOxB4tJN"
   },
   "source": [
    "And the analysis can be done with: :"
   ]
  },
  {
   "cell_type": "code",
   "execution_count": null,
   "metadata": {
    "colab": {},
    "colab_type": "code",
    "id": "c-dD72LA4tJO"
   },
   "outputs": [],
   "source": [
    "analysis = uq.analysis.SCAnalysis(sampler=sampler, qoi_cols=[\"iteration\"])\n",
    "campaign.apply_analysis(analysis)"
   ]
  },
  {
   "cell_type": "code",
   "execution_count": null,
   "metadata": {
    "colab": {},
    "colab_type": "code",
    "id": "P0BcqazCnb9x"
   },
   "outputs": [],
   "source": [
    "n = np.linspace(5, 100, 20)\n",
    "duration = np.linspace(7, 50, 20)\n",
    "mortality = 0.7\n",
    "grid = np.meshgrid(n, duration, mortality)\n",
    "z = np.array([analysis.surrogate('iteration', [grid[0].flatten()[i], grid[1].flatten()[i], mortality]) for i in range(n.shape[0] * duration.shape[0])]).flatten()\n",
    "fig = plt.figure(figsize=(10, 10), dpi= 80, facecolor='w', edgecolor='k')\n",
    "ax = fig.gca(projection='3d')\n",
    "ax.set_zlim(0, 200)\n",
    "ax.plot_trisurf(grid[0].flatten(), grid[1].flatten(), z)\n",
    "ax.set_xlabel('n')\n",
    "ax.set_ylabel('duration')\n",
    "ax.set_zlabel('time')\n",
    "plt.show()"
   ]
  },
  {
   "cell_type": "markdown",
   "metadata": {
    "colab_type": "text",
    "id": "-ph5PGWyweNr"
   },
   "source": [
    "Let us quickly check the correspondence of the surrogate model to the data we have collected during our parameter sweep experiment. What we're looking for is the curve should be within the confidence interval we have calculated."
   ]
  },
  {
   "cell_type": "code",
   "execution_count": null,
   "metadata": {
    "colab": {},
    "colab_type": "code",
    "id": "KkR5FHvx1BAw"
   },
   "outputs": [],
   "source": [
    "n = [20] * 14\n",
    "duration = list(range(2, 30, 2))\n",
    "mortality = [0.2] * 14\n",
    "\n",
    "plt.plot(([analysis.surrogate('iteration', [n_, duration_, mortality_])[0] for n_, duration_, mortality_ in zip(n, duration, mortality)]))\n",
    "plt.show()"
   ]
  }
 ],
 "metadata": {
  "colab": {
   "collapsed_sections": [],
   "name": "EasyVVUQ Tutorial with a Toy Epidemiological Model",
   "provenance": []
  },
  "kernelspec": {
   "display_name": "Python 3",
   "language": "python",
   "name": "python3"
  },
  "language_info": {
   "codemirror_mode": {
    "name": "ipython",
    "version": 3
   },
   "file_extension": ".py",
   "mimetype": "text/x-python",
   "name": "python",
   "nbconvert_exporter": "python",
   "pygments_lexer": "ipython3",
   "version": "3.8.5"
  }
 },
 "nbformat": 4,
 "nbformat_minor": 1
}
